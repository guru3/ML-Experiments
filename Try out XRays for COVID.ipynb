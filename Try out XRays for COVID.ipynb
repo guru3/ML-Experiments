{
 "cells": [
  {
   "cell_type": "code",
   "execution_count": 22,
   "metadata": {},
   "outputs": [],
   "source": [
    "from keras.applications.mobilenet import MobileNet\n",
    "from keras.layers import GlobalAveragePooling2D, Dense, Dropout, Flatten, Softmax\n",
    "from keras.models import Sequential\n",
    "\n",
    "def get_base_model():\n",
    "    base_mobilenet_model = MobileNet(input_shape =  (128,128,1), \n",
    "                                     include_top = False, weights = None)\n",
    "    multi_disease_model = Sequential()\n",
    "    multi_disease_model.add(base_mobilenet_model)\n",
    "    multi_disease_model.add(GlobalAveragePooling2D())\n",
    "    multi_disease_model.add(Dropout(0.5))\n",
    "    multi_disease_model.add(Dense(512))\n",
    "    multi_disease_model.add(Dropout(0.5))\n",
    "    multi_disease_model.add(Dense(13, activation = 'sigmoid'))\n",
    "    multi_disease_model.compile(optimizer = 'adam', loss = 'binary_crossentropy',metrics = ['binary_accuracy', 'mae'])\n",
    "    multi_disease_model.summary()\n",
    "    multi_disease_model.load_weights('/Users/gursharan/Desktop/xray_class_weights.best.hdf5')\n",
    "    return multi_disease_model;"
   ]
  },
  {
   "cell_type": "code",
   "execution_count": 13,
   "metadata": {},
   "outputs": [
    {
     "name": "stdout",
     "output_type": "stream",
     "text": [
      "Model: \"sequential_2\"\n",
      "_________________________________________________________________\n",
      "Layer (type)                 Output Shape              Param #   \n",
      "=================================================================\n",
      "mobilenet_1.00_128 (Model)   (None, 4, 4, 1024)        3228288   \n",
      "_________________________________________________________________\n",
      "global_average_pooling2d_2 ( (None, 1024)              0         \n",
      "_________________________________________________________________\n",
      "dropout_3 (Dropout)          (None, 1024)              0         \n",
      "_________________________________________________________________\n",
      "dense_5 (Dense)              (None, 512)               524800    \n",
      "_________________________________________________________________\n",
      "dropout_4 (Dropout)          (None, 512)               0         \n",
      "_________________________________________________________________\n",
      "dense_6 (Dense)              (None, 13)                6669      \n",
      "_________________________________________________________________\n",
      "dense_7 (Dense)              (None, 20)                280       \n",
      "_________________________________________________________________\n",
      "dense_8 (Dense)              (None, 2)                 42        \n",
      "_________________________________________________________________\n",
      "softmax_2 (Softmax)          (None, 2)                 0         \n",
      "=================================================================\n",
      "Total params: 3,760,079\n",
      "Trainable params: 3,738,191\n",
      "Non-trainable params: 21,888\n",
      "_________________________________________________________________\n"
     ]
    }
   ],
   "source": [
    "model = get_base_model()\n",
    "added_layers = 3\n",
    "model.add(Dense(20, activation = 'sigmoid'))\n",
    "model.add(Dense(2, activation='sigmoid'))\n",
    "model.add(Softmax())\n",
    "model.compile(optimizer ='adam', loss = 'binary_crossentropy', metrics = ['binary_accuracy', 'mae'])\n",
    "model.summary()"
   ]
  },
  {
   "cell_type": "code",
   "execution_count": 14,
   "metadata": {},
   "outputs": [],
   "source": [
    "#Get the images\n",
    "import csv\n",
    "xrays = '/Users/gursharan/Desktop/covid-chest-xray/'\n",
    "disease_to_file = [];\n",
    "for row in csv.reader(open(xrays + '/metadata.csv','r')):\n",
    "    #finding is #4 and filename is #21\n",
    "    #modality is #17 and view is $16\n",
    "    if( row[17] != 'X-ray' and row[16] != 'PA' ):\n",
    "        continue\n",
    "    disease_to_file.append( [ row[4],row[21] ] );"
   ]
  },
  {
   "cell_type": "code",
   "execution_count": 15,
   "metadata": {},
   "outputs": [],
   "source": [
    "import os\n",
    "xrays_dir = xrays + '/images/'\n",
    "if not os.path.exists(xrays_dir + '/covid'):\n",
    "    os.mkdir(xrays_dir + '/covid')\n",
    "if not os.path.exists(xrays_dir + '/not_covid'):\n",
    "    os.mkdir(xrays_dir + '/not_covid')"
   ]
  },
  {
   "cell_type": "code",
   "execution_count": 16,
   "metadata": {},
   "outputs": [],
   "source": [
    "#Get the images\n",
    "xrays = '/Users/gursharan/Desktop/covid-chest-xray/'\n",
    "xrays_raw = xrays + '/images_raw/'\n",
    "xrays_seg = xrays + '/images/'\n",
    "\n",
    "import shutil\n",
    "for [ finding, filename ] in disease_to_file:\n",
    "    directory = '/not_covid/'\n",
    "    if finding == 'COVID-19':\n",
    "        directory = '/covid/'\n",
    "    if( os.path.exists(xrays_raw + filename) ):\n",
    "        shutil.copy2( xrays_raw + filename, xrays_seg + directory + filename)"
   ]
  },
  {
   "cell_type": "code",
   "execution_count": 17,
   "metadata": {},
   "outputs": [],
   "source": [
    "def ensure_folder_exists(folder):\n",
    "    if not os.path.exists(folder):\n",
    "        os.makedirs(folder)"
   ]
  },
  {
   "cell_type": "code",
   "execution_count": 18,
   "metadata": {},
   "outputs": [
    {
     "name": "stdout",
     "output_type": "stream",
     "text": [
      "Found 236 images belonging to 2 classes.\n",
      "Found 26 images belonging to 2 classes.\n"
     ]
    }
   ],
   "source": [
    "from tensorflow.keras.preprocessing.image import ImageDataGenerator\n",
    "from tensorflow.keras.applications import mobilenet as mnet\n",
    "\n",
    "datagen = ImageDataGenerator(\n",
    "    preprocessing_function=mnet.preprocess_input, shear_range=0.5, zoom_range=0.5,\n",
    "    horizontal_flip=True, validation_split=0.1)\n",
    "\n",
    "ensure_folder_exists('training_aug')\n",
    "ensure_folder_exists('validation_aug')\n",
    "\n",
    "training = datagen.flow_from_directory( xrays_seg, target_size=(128, 128),                                    \n",
    "    color_mode = 'grayscale', save_to_dir='./training_aug', subset='training')\n",
    "validation = datagen.flow_from_directory( xrays_seg, target_size=(128, 128),\n",
    "    color_mode = 'grayscale', save_to_dir='./validation_aug', subset='validation') "
   ]
  },
  {
   "cell_type": "code",
   "execution_count": 19,
   "metadata": {},
   "outputs": [
    {
     "data": {
      "application/vnd.jupyter.widget-view+json": {
       "model_id": "70cb5800241c480982090170825a26e3",
       "version_major": 2,
       "version_minor": 0
      },
      "text/plain": [
       "HBox(children=(IntProgress(value=0, description='Training', max=50, style=ProgressStyle(description_width='ini…"
      ]
     },
     "metadata": {},
     "output_type": "display_data"
    },
    {
     "name": "stdout",
     "output_type": "stream",
     "text": [
      "Epoch 1/50\n"
     ]
    },
    {
     "data": {
      "application/vnd.jupyter.widget-view+json": {
       "model_id": "f9c236ea8a4744568794858105dbfed4",
       "version_major": 2,
       "version_minor": 0
      },
      "text/plain": [
       "HBox(children=(IntProgress(value=0, description='Epoch 0', max=7, style=ProgressStyle(description_width='initi…"
      ]
     },
     "metadata": {},
     "output_type": "display_data"
    },
    {
     "name": "stdout",
     "output_type": "stream",
     "text": [
      "7/7 [==============================] - 14s 2s/step - loss: 0.6371 - binary_accuracy: 0.7500 - mae: 0.4695 - val_loss: 0.6361 - val_binary_accuracy: 0.7308 - val_mae: 0.4664\n",
      "Epoch 2/50\n"
     ]
    },
    {
     "data": {
      "application/vnd.jupyter.widget-view+json": {
       "model_id": "c18d5a1e28284bf391ad7b875be5283b",
       "version_major": 2,
       "version_minor": 0
      },
      "text/plain": [
       "HBox(children=(IntProgress(value=0, description='Epoch 1', max=7, style=ProgressStyle(description_width='initi…"
      ]
     },
     "metadata": {},
     "output_type": "display_data"
    },
    {
     "name": "stdout",
     "output_type": "stream",
     "text": [
      "7/7 [==============================] - 13s 2s/step - loss: 0.6346 - binary_accuracy: 0.7143 - mae: 0.4640 - val_loss: 0.6241 - val_binary_accuracy: 0.7308 - val_mae: 0.4572\n",
      "Epoch 3/50\n"
     ]
    },
    {
     "data": {
      "application/vnd.jupyter.widget-view+json": {
       "model_id": "14f3e3d99e524d6c9180fedf68244f70",
       "version_major": 2,
       "version_minor": 0
      },
      "text/plain": [
       "HBox(children=(IntProgress(value=0, description='Epoch 2', max=7, style=ProgressStyle(description_width='initi…"
      ]
     },
     "metadata": {},
     "output_type": "display_data"
    },
    {
     "name": "stdout",
     "output_type": "stream",
     "text": [
      "7/7 [==============================] - 11s 2s/step - loss: 0.6152 - binary_accuracy: 0.7228 - mae: 0.4563 - val_loss: 0.6181 - val_binary_accuracy: 0.7308 - val_mae: 0.4522\n",
      "Epoch 4/50\n"
     ]
    },
    {
     "data": {
      "application/vnd.jupyter.widget-view+json": {
       "model_id": "39f08a416f5f411bac6fa44bbf93a3c4",
       "version_major": 2,
       "version_minor": 0
      },
      "text/plain": [
       "HBox(children=(IntProgress(value=0, description='Epoch 3', max=7, style=ProgressStyle(description_width='initi…"
      ]
     },
     "metadata": {},
     "output_type": "display_data"
    },
    {
     "name": "stdout",
     "output_type": "stream",
     "text": [
      "7/7 [==============================] - 13s 2s/step - loss: 0.6217 - binary_accuracy: 0.7188 - mae: 0.4532 - val_loss: 0.6137 - val_binary_accuracy: 0.7308 - val_mae: 0.4483\n",
      "Epoch 5/50\n"
     ]
    },
    {
     "data": {
      "application/vnd.jupyter.widget-view+json": {
       "model_id": "a76430402be84b35b805c9c58a3e6ba8",
       "version_major": 2,
       "version_minor": 0
      },
      "text/plain": [
       "HBox(children=(IntProgress(value=0, description='Epoch 4', max=7, style=ProgressStyle(description_width='initi…"
      ]
     },
     "metadata": {},
     "output_type": "display_data"
    },
    {
     "name": "stdout",
     "output_type": "stream",
     "text": [
      "7/7 [==============================] - 13s 2s/step - loss: 0.6030 - binary_accuracy: 0.7500 - mae: 0.4421 - val_loss: 0.6096 - val_binary_accuracy: 0.7308 - val_mae: 0.4444\n",
      "Epoch 6/50\n"
     ]
    },
    {
     "data": {
      "application/vnd.jupyter.widget-view+json": {
       "model_id": "fcb35388e0264d5997617ab0344fbe96",
       "version_major": 2,
       "version_minor": 0
      },
      "text/plain": [
       "HBox(children=(IntProgress(value=0, description='Epoch 5', max=7, style=ProgressStyle(description_width='initi…"
      ]
     },
     "metadata": {},
     "output_type": "display_data"
    },
    {
     "name": "stdout",
     "output_type": "stream",
     "text": [
      "7/7 [==============================] - 12s 2s/step - loss: 0.5983 - binary_accuracy: 0.7500 - mae: 0.4381 - val_loss: 0.6062 - val_binary_accuracy: 0.7308 - val_mae: 0.4409\n",
      "Epoch 7/50\n"
     ]
    },
    {
     "data": {
      "application/vnd.jupyter.widget-view+json": {
       "model_id": "3180673e160f46dd8b0ef306323743cb",
       "version_major": 2,
       "version_minor": 0
      },
      "text/plain": [
       "HBox(children=(IntProgress(value=0, description='Epoch 6', max=7, style=ProgressStyle(description_width='initi…"
      ]
     },
     "metadata": {},
     "output_type": "display_data"
    },
    {
     "name": "stdout",
     "output_type": "stream",
     "text": [
      "7/7 [==============================] - 11s 2s/step - loss: 0.6043 - binary_accuracy: 0.7283 - mae: 0.4402 - val_loss: 0.6033 - val_binary_accuracy: 0.7308 - val_mae: 0.4377\n",
      "Epoch 8/50\n"
     ]
    },
    {
     "data": {
      "application/vnd.jupyter.widget-view+json": {
       "model_id": "fec77564dab9440c989c1d1d396bcd9d",
       "version_major": 2,
       "version_minor": 0
      },
      "text/plain": [
       "HBox(children=(IntProgress(value=0, description='Epoch 7', max=7, style=ProgressStyle(description_width='initi…"
      ]
     },
     "metadata": {},
     "output_type": "display_data"
    },
    {
     "name": "stdout",
     "output_type": "stream",
     "text": [
      "7/7 [==============================] - 17s 2s/step - loss: 0.6013 - binary_accuracy: 0.7321 - mae: 0.4361 - val_loss: 0.6008 - val_binary_accuracy: 0.7308 - val_mae: 0.4349\n",
      "Epoch 9/50\n"
     ]
    },
    {
     "data": {
      "application/vnd.jupyter.widget-view+json": {
       "model_id": "6416cc4f1c3f4b31a6c6051281ad03b9",
       "version_major": 2,
       "version_minor": 0
      },
      "text/plain": [
       "HBox(children=(IntProgress(value=0, description='Epoch 8', max=7, style=ProgressStyle(description_width='initi…"
      ]
     },
     "metadata": {},
     "output_type": "display_data"
    },
    {
     "name": "stdout",
     "output_type": "stream",
     "text": [
      "7/7 [==============================] - 21s 3s/step - loss: 0.6047 - binary_accuracy: 0.7353 - mae: 0.4327 - val_loss: 0.5987 - val_binary_accuracy: 0.7308 - val_mae: 0.4323\n",
      "Epoch 10/50\n"
     ]
    },
    {
     "data": {
      "application/vnd.jupyter.widget-view+json": {
       "model_id": "7290a74bbc4845a8ad365b6c48e73559",
       "version_major": 2,
       "version_minor": 0
      },
      "text/plain": [
       "HBox(children=(IntProgress(value=0, description='Epoch 9', max=7, style=ProgressStyle(description_width='initi…"
      ]
     },
     "metadata": {},
     "output_type": "display_data"
    },
    {
     "name": "stdout",
     "output_type": "stream",
     "text": [
      "7/7 [==============================] - 18s 3s/step - loss: 0.6148 - binary_accuracy: 0.7206 - mae: 0.4345 - val_loss: 0.5973 - val_binary_accuracy: 0.7308 - val_mae: 0.4306\n",
      "Epoch 11/50\n"
     ]
    },
    {
     "data": {
      "application/vnd.jupyter.widget-view+json": {
       "model_id": "49fb5b3d1e0646959314c44571450c25",
       "version_major": 2,
       "version_minor": 0
      },
      "text/plain": [
       "HBox(children=(IntProgress(value=0, description='Epoch 10', max=7, style=ProgressStyle(description_width='init…"
      ]
     },
     "metadata": {},
     "output_type": "display_data"
    },
    {
     "name": "stdout",
     "output_type": "stream",
     "text": [
      "7/7 [==============================] - 21s 3s/step - loss: 0.6001 - binary_accuracy: 0.7451 - mae: 0.4256 - val_loss: 0.5959 - val_binary_accuracy: 0.7308 - val_mae: 0.4288\n",
      "Epoch 12/50\n"
     ]
    },
    {
     "data": {
      "application/vnd.jupyter.widget-view+json": {
       "model_id": "06b3a092b2224b7ca171adf2e31539e1",
       "version_major": 2,
       "version_minor": 0
      },
      "text/plain": [
       "HBox(children=(IntProgress(value=0, description='Epoch 11', max=7, style=ProgressStyle(description_width='init…"
      ]
     },
     "metadata": {},
     "output_type": "display_data"
    },
    {
     "name": "stdout",
     "output_type": "stream",
     "text": [
      "7/7 [==============================] - 21s 3s/step - loss: 0.5975 - binary_accuracy: 0.7277 - mae: 0.4291 - val_loss: 0.5948 - val_binary_accuracy: 0.7308 - val_mae: 0.4272\n",
      "Epoch 13/50\n"
     ]
    },
    {
     "data": {
      "application/vnd.jupyter.widget-view+json": {
       "model_id": "86953d5fc05d4b6f9f64010f710da4af",
       "version_major": 2,
       "version_minor": 0
      },
      "text/plain": [
       "HBox(children=(IntProgress(value=0, description='Epoch 12', max=7, style=ProgressStyle(description_width='init…"
      ]
     },
     "metadata": {},
     "output_type": "display_data"
    },
    {
     "name": "stdout",
     "output_type": "stream",
     "text": [
      "7/7 [==============================] - 19s 3s/step - loss: 0.5860 - binary_accuracy: 0.7500 - mae: 0.4205 - val_loss: 0.5938 - val_binary_accuracy: 0.7308 - val_mae: 0.4257\n",
      "Epoch 14/50\n"
     ]
    },
    {
     "data": {
      "application/vnd.jupyter.widget-view+json": {
       "model_id": "f855340a76f348ffa52d7cbea1d2697f",
       "version_major": 2,
       "version_minor": 0
      },
      "text/plain": [
       "HBox(children=(IntProgress(value=0, description='Epoch 13', max=7, style=ProgressStyle(description_width='init…"
      ]
     },
     "metadata": {},
     "output_type": "display_data"
    },
    {
     "name": "stdout",
     "output_type": "stream",
     "text": [
      "7/7 [==============================] - 20s 3s/step - loss: 0.5943 - binary_accuracy: 0.7206 - mae: 0.4282 - val_loss: 0.5928 - val_binary_accuracy: 0.7308 - val_mae: 0.4241\n",
      "Epoch 15/50\n"
     ]
    },
    {
     "data": {
      "application/vnd.jupyter.widget-view+json": {
       "model_id": "c9a2660abbd34fb7a7cc410698efd602",
       "version_major": 2,
       "version_minor": 0
      },
      "text/plain": [
       "HBox(children=(IntProgress(value=0, description='Epoch 14', max=7, style=ProgressStyle(description_width='init…"
      ]
     },
     "metadata": {},
     "output_type": "display_data"
    },
    {
     "name": "stdout",
     "output_type": "stream",
     "text": [
      "7/7 [==============================] - 20s 3s/step - loss: 0.5777 - binary_accuracy: 0.7451 - mae: 0.4187 - val_loss: 0.5918 - val_binary_accuracy: 0.7308 - val_mae: 0.4226\n",
      "Epoch 16/50\n"
     ]
    },
    {
     "data": {
      "application/vnd.jupyter.widget-view+json": {
       "model_id": "e20dbc20ddf348679c31cf6061dab04a",
       "version_major": 2,
       "version_minor": 0
      },
      "text/plain": [
       "HBox(children=(IntProgress(value=0, description='Epoch 15', max=7, style=ProgressStyle(description_width='init…"
      ]
     },
     "metadata": {},
     "output_type": "display_data"
    },
    {
     "name": "stdout",
     "output_type": "stream",
     "text": [
      "7/7 [==============================] - 20s 3s/step - loss: 0.5969 - binary_accuracy: 0.7206 - mae: 0.4254 - val_loss: 0.5910 - val_binary_accuracy: 0.7308 - val_mae: 0.4213\n",
      "Epoch 17/50\n"
     ]
    },
    {
     "data": {
      "application/vnd.jupyter.widget-view+json": {
       "model_id": "7cbfe53a9fb94a9fbecafc9321fa18f9",
       "version_major": 2,
       "version_minor": 0
      },
      "text/plain": [
       "HBox(children=(IntProgress(value=0, description='Epoch 16', max=7, style=ProgressStyle(description_width='init…"
      ]
     },
     "metadata": {},
     "output_type": "display_data"
    },
    {
     "name": "stdout",
     "output_type": "stream",
     "text": [
      "7/7 [==============================] - 21s 3s/step - loss: 0.5894 - binary_accuracy: 0.7451 - mae: 0.4158 - val_loss: 0.5903 - val_binary_accuracy: 0.7308 - val_mae: 0.4201\n",
      "Epoch 18/50\n"
     ]
    },
    {
     "data": {
      "application/vnd.jupyter.widget-view+json": {
       "model_id": "ec89f3e20dd7438dbc84f5db1d9c3917",
       "version_major": 2,
       "version_minor": 0
      },
      "text/plain": [
       "HBox(children=(IntProgress(value=0, description='Epoch 17', max=7, style=ProgressStyle(description_width='init…"
      ]
     },
     "metadata": {},
     "output_type": "display_data"
    },
    {
     "name": "stdout",
     "output_type": "stream",
     "text": [
      "7/7 [==============================] - 21s 3s/step - loss: 0.6216 - binary_accuracy: 0.6961 - mae: 0.4318 - val_loss: 0.5899 - val_binary_accuracy: 0.7308 - val_mae: 0.4193\n",
      "Epoch 19/50\n"
     ]
    },
    {
     "data": {
      "application/vnd.jupyter.widget-view+json": {
       "model_id": "291dbdd45ff348029a6b7fa50c6e8945",
       "version_major": 2,
       "version_minor": 0
      },
      "text/plain": [
       "HBox(children=(IntProgress(value=0, description='Epoch 18', max=7, style=ProgressStyle(description_width='init…"
      ]
     },
     "metadata": {},
     "output_type": "display_data"
    },
    {
     "name": "stdout",
     "output_type": "stream",
     "text": [
      "7/7 [==============================] - 21s 3s/step - loss: 0.5704 - binary_accuracy: 0.7647 - mae: 0.4070 - val_loss: 0.5894 - val_binary_accuracy: 0.7308 - val_mae: 0.4184\n",
      "Epoch 20/50\n"
     ]
    },
    {
     "data": {
      "application/vnd.jupyter.widget-view+json": {
       "model_id": "2b03bc15734c48e8a971d07a31e6f630",
       "version_major": 2,
       "version_minor": 0
      },
      "text/plain": [
       "HBox(children=(IntProgress(value=0, description='Epoch 19', max=7, style=ProgressStyle(description_width='init…"
      ]
     },
     "metadata": {},
     "output_type": "display_data"
    },
    {
     "name": "stdout",
     "output_type": "stream",
     "text": [
      "7/7 [==============================] - 22s 3s/step - loss: 0.5849 - binary_accuracy: 0.7366 - mae: 0.4159 - val_loss: 0.5888 - val_binary_accuracy: 0.7308 - val_mae: 0.4173\n",
      "Epoch 21/50\n"
     ]
    },
    {
     "data": {
      "application/vnd.jupyter.widget-view+json": {
       "model_id": "d97afe8441d04300bf92620f5a5ea31e",
       "version_major": 2,
       "version_minor": 0
      },
      "text/plain": [
       "HBox(children=(IntProgress(value=0, description='Epoch 20', max=7, style=ProgressStyle(description_width='init…"
      ]
     },
     "metadata": {},
     "output_type": "display_data"
    },
    {
     "name": "stdout",
     "output_type": "stream",
     "text": [
      "7/7 [==============================] - 17s 2s/step - loss: 0.6165 - binary_accuracy: 0.7065 - mae: 0.4257 - val_loss: 0.5884 - val_binary_accuracy: 0.7308 - val_mae: 0.4166\n",
      "Epoch 22/50\n"
     ]
    },
    {
     "data": {
      "application/vnd.jupyter.widget-view+json": {
       "model_id": "3e939845c45648dfb160a86fd05fef5c",
       "version_major": 2,
       "version_minor": 0
      },
      "text/plain": [
       "HBox(children=(IntProgress(value=0, description='Epoch 21', max=7, style=ProgressStyle(description_width='init…"
      ]
     },
     "metadata": {},
     "output_type": "display_data"
    },
    {
     "name": "stdout",
     "output_type": "stream",
     "text": [
      "7/7 [==============================] - 23s 3s/step - loss: 0.5635 - binary_accuracy: 0.7634 - mae: 0.4044 - val_loss: 0.5881 - val_binary_accuracy: 0.7308 - val_mae: 0.4158\n",
      "Epoch 23/50\n"
     ]
    },
    {
     "data": {
      "application/vnd.jupyter.widget-view+json": {
       "model_id": "5130922ca24b458ca04c1c7cb242b80c",
       "version_major": 2,
       "version_minor": 0
      },
      "text/plain": [
       "HBox(children=(IntProgress(value=0, description='Epoch 22', max=7, style=ProgressStyle(description_width='init…"
      ]
     },
     "metadata": {},
     "output_type": "display_data"
    },
    {
     "name": "stdout",
     "output_type": "stream",
     "text": [
      "7/7 [==============================] - 18s 3s/step - loss: 0.5939 - binary_accuracy: 0.7206 - mae: 0.4192 - val_loss: 0.5877 - val_binary_accuracy: 0.7308 - val_mae: 0.4151\n",
      "Epoch 24/50\n"
     ]
    },
    {
     "data": {
      "application/vnd.jupyter.widget-view+json": {
       "model_id": "a5946e990d8d45be8ba185182ad54633",
       "version_major": 2,
       "version_minor": 0
      },
      "text/plain": [
       "HBox(children=(IntProgress(value=0, description='Epoch 23', max=7, style=ProgressStyle(description_width='init…"
      ]
     },
     "metadata": {},
     "output_type": "display_data"
    },
    {
     "name": "stdout",
     "output_type": "stream",
     "text": [
      "7/7 [==============================] - 20s 3s/step - loss: 0.5952 - binary_accuracy: 0.7255 - mae: 0.4167 - val_loss: 0.5874 - val_binary_accuracy: 0.7308 - val_mae: 0.4144\n",
      "Epoch 25/50\n"
     ]
    },
    {
     "data": {
      "application/vnd.jupyter.widget-view+json": {
       "model_id": "36f7acb92234417095155fa145a06104",
       "version_major": 2,
       "version_minor": 0
      },
      "text/plain": [
       "HBox(children=(IntProgress(value=0, description='Epoch 24', max=7, style=ProgressStyle(description_width='init…"
      ]
     },
     "metadata": {},
     "output_type": "display_data"
    },
    {
     "name": "stdout",
     "output_type": "stream",
     "text": [
      "7/7 [==============================] - 19s 3s/step - loss: 0.5798 - binary_accuracy: 0.7255 - mae: 0.4161 - val_loss: 0.5871 - val_binary_accuracy: 0.7308 - val_mae: 0.4137\n",
      "Epoch 26/50\n"
     ]
    },
    {
     "data": {
      "application/vnd.jupyter.widget-view+json": {
       "model_id": "2df9dcb437104e34b9d506c90dbae1f9",
       "version_major": 2,
       "version_minor": 0
      },
      "text/plain": [
       "HBox(children=(IntProgress(value=0, description='Epoch 25', max=7, style=ProgressStyle(description_width='init…"
      ]
     },
     "metadata": {},
     "output_type": "display_data"
    },
    {
     "name": "stdout",
     "output_type": "stream",
     "text": [
      "7/7 [==============================] - 14s 2s/step - loss: 0.5894 - binary_accuracy: 0.7277 - mae: 0.4146 - val_loss: 0.5868 - val_binary_accuracy: 0.7308 - val_mae: 0.4131\n",
      "Epoch 27/50\n"
     ]
    },
    {
     "data": {
      "application/vnd.jupyter.widget-view+json": {
       "model_id": "efa6eccfbc364a3f84f510e98b7869c2",
       "version_major": 2,
       "version_minor": 0
      },
      "text/plain": [
       "HBox(children=(IntProgress(value=0, description='Epoch 26', max=7, style=ProgressStyle(description_width='init…"
      ]
     },
     "metadata": {},
     "output_type": "display_data"
    },
    {
     "name": "stdout",
     "output_type": "stream",
     "text": [
      "7/7 [==============================] - 9s 1s/step - loss: 0.5559 - binary_accuracy: 0.7500 - mae: 0.4055 - val_loss: 0.5865 - val_binary_accuracy: 0.7308 - val_mae: 0.4123\n",
      "Epoch 28/50\n"
     ]
    },
    {
     "data": {
      "application/vnd.jupyter.widget-view+json": {
       "model_id": "96f0708305bb4153959c684892dbc3d1",
       "version_major": 2,
       "version_minor": 0
      },
      "text/plain": [
       "HBox(children=(IntProgress(value=0, description='Epoch 27', max=7, style=ProgressStyle(description_width='init…"
      ]
     },
     "metadata": {},
     "output_type": "display_data"
    },
    {
     "name": "stdout",
     "output_type": "stream",
     "text": [
      "7/7 [==============================] - 12s 2s/step - loss: 0.6140 - binary_accuracy: 0.6964 - mae: 0.4251 - val_loss: 0.5862 - val_binary_accuracy: 0.7308 - val_mae: 0.4117\n",
      "Epoch 29/50\n"
     ]
    },
    {
     "data": {
      "application/vnd.jupyter.widget-view+json": {
       "model_id": "c7d415cc320148b7b89b141eb2588c54",
       "version_major": 2,
       "version_minor": 0
      },
      "text/plain": [
       "HBox(children=(IntProgress(value=0, description='Epoch 28', max=7, style=ProgressStyle(description_width='init…"
      ]
     },
     "metadata": {},
     "output_type": "display_data"
    },
    {
     "name": "stdout",
     "output_type": "stream",
     "text": [
      "7/7 [==============================] - 11s 2s/step - loss: 0.5487 - binary_accuracy: 0.7794 - mae: 0.3928 - val_loss: 0.5860 - val_binary_accuracy: 0.7308 - val_mae: 0.4111\n",
      "Epoch 30/50\n"
     ]
    },
    {
     "data": {
      "application/vnd.jupyter.widget-view+json": {
       "model_id": "a8afa3c830e549229cc5005e03fcb5d8",
       "version_major": 2,
       "version_minor": 0
      },
      "text/plain": [
       "HBox(children=(IntProgress(value=0, description='Epoch 29', max=7, style=ProgressStyle(description_width='init…"
      ]
     },
     "metadata": {},
     "output_type": "display_data"
    },
    {
     "name": "stdout",
     "output_type": "stream",
     "text": [
      "7/7 [==============================] - 11s 2s/step - loss: 0.5685 - binary_accuracy: 0.7451 - mae: 0.4052 - val_loss: 0.5857 - val_binary_accuracy: 0.7308 - val_mae: 0.4104\n",
      "Epoch 31/50\n"
     ]
    },
    {
     "data": {
      "application/vnd.jupyter.widget-view+json": {
       "model_id": "9bdda1dcb1974b9c91668306e4798231",
       "version_major": 2,
       "version_minor": 0
      },
      "text/plain": [
       "HBox(children=(IntProgress(value=0, description='Epoch 30', max=7, style=ProgressStyle(description_width='init…"
      ]
     },
     "metadata": {},
     "output_type": "display_data"
    },
    {
     "name": "stdout",
     "output_type": "stream",
     "text": [
      "7/7 [==============================] - 12s 2s/step - loss: 0.6049 - binary_accuracy: 0.7108 - mae: 0.4180 - val_loss: 0.5856 - val_binary_accuracy: 0.7308 - val_mae: 0.4099\n",
      "Epoch 32/50\n"
     ]
    },
    {
     "data": {
      "application/vnd.jupyter.widget-view+json": {
       "model_id": "f0e35a190ff24782ac403f1af1dd0476",
       "version_major": 2,
       "version_minor": 0
      },
      "text/plain": [
       "HBox(children=(IntProgress(value=0, description='Epoch 31', max=7, style=ProgressStyle(description_width='init…"
      ]
     },
     "metadata": {},
     "output_type": "display_data"
    },
    {
     "name": "stdout",
     "output_type": "stream",
     "text": [
      "7/7 [==============================] - 11s 2s/step - loss: 0.5754 - binary_accuracy: 0.7353 - mae: 0.4080 - val_loss: 0.5854 - val_binary_accuracy: 0.7308 - val_mae: 0.4095\n",
      "Epoch 33/50\n"
     ]
    },
    {
     "data": {
      "application/vnd.jupyter.widget-view+json": {
       "model_id": "639681076c2f44048e70b54896084dd9",
       "version_major": 2,
       "version_minor": 0
      },
      "text/plain": [
       "HBox(children=(IntProgress(value=0, description='Epoch 32', max=7, style=ProgressStyle(description_width='init…"
      ]
     },
     "metadata": {},
     "output_type": "display_data"
    },
    {
     "name": "stdout",
     "output_type": "stream",
     "text": [
      "7/7 [==============================] - 11s 2s/step - loss: 0.5715 - binary_accuracy: 0.7402 - mae: 0.4056 - val_loss: 0.5852 - val_binary_accuracy: 0.7308 - val_mae: 0.4090\n",
      "Epoch 34/50\n"
     ]
    },
    {
     "data": {
      "application/vnd.jupyter.widget-view+json": {
       "model_id": "ffb7006c45e0456a9118ae83f56a707b",
       "version_major": 2,
       "version_minor": 0
      },
      "text/plain": [
       "HBox(children=(IntProgress(value=0, description='Epoch 33', max=7, style=ProgressStyle(description_width='init…"
      ]
     },
     "metadata": {},
     "output_type": "display_data"
    },
    {
     "name": "stdout",
     "output_type": "stream",
     "text": [
      "7/7 [==============================] - 13s 2s/step - loss: 0.5691 - binary_accuracy: 0.7500 - mae: 0.4012 - val_loss: 0.5851 - val_binary_accuracy: 0.7308 - val_mae: 0.4085\n",
      "Epoch 35/50\n"
     ]
    },
    {
     "data": {
      "application/vnd.jupyter.widget-view+json": {
       "model_id": "744d3d98aa444b88b98a7ec4dc3565cf",
       "version_major": 2,
       "version_minor": 0
      },
      "text/plain": [
       "HBox(children=(IntProgress(value=0, description='Epoch 34', max=7, style=ProgressStyle(description_width='init…"
      ]
     },
     "metadata": {},
     "output_type": "display_data"
    },
    {
     "name": "stdout",
     "output_type": "stream",
     "text": [
      "7/7 [==============================] - 10s 1s/step - loss: 0.6051 - binary_accuracy: 0.7065 - mae: 0.4180 - val_loss: 0.5850 - val_binary_accuracy: 0.7308 - val_mae: 0.4082\n",
      "Epoch 36/50\n"
     ]
    },
    {
     "data": {
      "application/vnd.jupyter.widget-view+json": {
       "model_id": "59e003736e0d4c7a9c0247ec978ebca2",
       "version_major": 2,
       "version_minor": 0
      },
      "text/plain": [
       "HBox(children=(IntProgress(value=0, description='Epoch 35', max=7, style=ProgressStyle(description_width='init…"
      ]
     },
     "metadata": {},
     "output_type": "display_data"
    },
    {
     "name": "stdout",
     "output_type": "stream",
     "text": [
      "7/7 [==============================] - 12s 2s/step - loss: 0.5762 - binary_accuracy: 0.7411 - mae: 0.4040 - val_loss: 0.5849 - val_binary_accuracy: 0.7308 - val_mae: 0.4079\n",
      "Epoch 37/50\n"
     ]
    },
    {
     "data": {
      "application/vnd.jupyter.widget-view+json": {
       "model_id": "9d5323331c3646bcadffeff9673104aa",
       "version_major": 2,
       "version_minor": 0
      },
      "text/plain": [
       "HBox(children=(IntProgress(value=0, description='Epoch 36', max=7, style=ProgressStyle(description_width='init…"
      ]
     },
     "metadata": {},
     "output_type": "display_data"
    },
    {
     "name": "stdout",
     "output_type": "stream",
     "text": [
      "7/7 [==============================] - 12s 2s/step - loss: 0.6238 - binary_accuracy: 0.6863 - mae: 0.4256 - val_loss: 0.5848 - val_binary_accuracy: 0.7308 - val_mae: 0.4076\n",
      "Epoch 38/50\n"
     ]
    },
    {
     "data": {
      "application/vnd.jupyter.widget-view+json": {
       "model_id": "feb3908d5c554fda8d32963c2dbb6258",
       "version_major": 2,
       "version_minor": 0
      },
      "text/plain": [
       "HBox(children=(IntProgress(value=0, description='Epoch 37', max=7, style=ProgressStyle(description_width='init…"
      ]
     },
     "metadata": {},
     "output_type": "display_data"
    },
    {
     "name": "stdout",
     "output_type": "stream",
     "text": [
      "7/7 [==============================] - 12s 2s/step - loss: 0.5646 - binary_accuracy: 0.7549 - mae: 0.3979 - val_loss: 0.5847 - val_binary_accuracy: 0.7308 - val_mae: 0.4074\n",
      "Epoch 39/50\n"
     ]
    },
    {
     "data": {
      "application/vnd.jupyter.widget-view+json": {
       "model_id": "4c08d3f022e543d08047186471ca666c",
       "version_major": 2,
       "version_minor": 0
      },
      "text/plain": [
       "HBox(children=(IntProgress(value=0, description='Epoch 38', max=7, style=ProgressStyle(description_width='init…"
      ]
     },
     "metadata": {},
     "output_type": "display_data"
    },
    {
     "name": "stdout",
     "output_type": "stream",
     "text": [
      "7/7 [==============================] - 12s 2s/step - loss: 0.5704 - binary_accuracy: 0.7402 - mae: 0.4035 - val_loss: 0.5846 - val_binary_accuracy: 0.7308 - val_mae: 0.4071\n",
      "Epoch 40/50\n"
     ]
    },
    {
     "data": {
      "application/vnd.jupyter.widget-view+json": {
       "model_id": "1fed0d54221f49158531a20b22218108",
       "version_major": 2,
       "version_minor": 0
      },
      "text/plain": [
       "HBox(children=(IntProgress(value=0, description='Epoch 39', max=7, style=ProgressStyle(description_width='init…"
      ]
     },
     "metadata": {},
     "output_type": "display_data"
    },
    {
     "name": "stdout",
     "output_type": "stream",
     "text": [
      "7/7 [==============================] - 12s 2s/step - loss: 0.5758 - binary_accuracy: 0.7402 - mae: 0.4031 - val_loss: 0.5845 - val_binary_accuracy: 0.7308 - val_mae: 0.4067\n",
      "Epoch 41/50\n"
     ]
    },
    {
     "data": {
      "application/vnd.jupyter.widget-view+json": {
       "model_id": "4e897b5be26547ba9226dc231e65aa26",
       "version_major": 2,
       "version_minor": 0
      },
      "text/plain": [
       "HBox(children=(IntProgress(value=0, description='Epoch 40', max=7, style=ProgressStyle(description_width='init…"
      ]
     },
     "metadata": {},
     "output_type": "display_data"
    },
    {
     "name": "stdout",
     "output_type": "stream",
     "text": [
      "7/7 [==============================] - 12s 2s/step - loss: 0.5833 - binary_accuracy: 0.7321 - mae: 0.4060 - val_loss: 0.5844 - val_binary_accuracy: 0.7308 - val_mae: 0.4063\n",
      "Epoch 42/50\n"
     ]
    },
    {
     "data": {
      "application/vnd.jupyter.widget-view+json": {
       "model_id": "0b36678038b54e20a44e7af679014c67",
       "version_major": 2,
       "version_minor": 0
      },
      "text/plain": [
       "HBox(children=(IntProgress(value=0, description='Epoch 41', max=7, style=ProgressStyle(description_width='init…"
      ]
     },
     "metadata": {},
     "output_type": "display_data"
    },
    {
     "name": "stdout",
     "output_type": "stream",
     "text": [
      "7/7 [==============================] - 10s 1s/step - loss: 0.5740 - binary_accuracy: 0.7337 - mae: 0.4050 - val_loss: 0.5843 - val_binary_accuracy: 0.7308 - val_mae: 0.4061\n",
      "Epoch 43/50\n"
     ]
    },
    {
     "data": {
      "application/vnd.jupyter.widget-view+json": {
       "model_id": "311a51e2e590422e976378b93ee455fb",
       "version_major": 2,
       "version_minor": 0
      },
      "text/plain": [
       "HBox(children=(IntProgress(value=0, description='Epoch 42', max=7, style=ProgressStyle(description_width='init…"
      ]
     },
     "metadata": {},
     "output_type": "display_data"
    },
    {
     "name": "stdout",
     "output_type": "stream",
     "text": [
      "7/7 [==============================] - 12s 2s/step - loss: 0.5831 - binary_accuracy: 0.7321 - mae: 0.4054 - val_loss: 0.5842 - val_binary_accuracy: 0.7308 - val_mae: 0.4058\n",
      "Epoch 44/50\n"
     ]
    },
    {
     "data": {
      "application/vnd.jupyter.widget-view+json": {
       "model_id": "0129d039886b447f9c267b892dade9ef",
       "version_major": 2,
       "version_minor": 0
      },
      "text/plain": [
       "HBox(children=(IntProgress(value=0, description='Epoch 43', max=7, style=ProgressStyle(description_width='init…"
      ]
     },
     "metadata": {},
     "output_type": "display_data"
    },
    {
     "name": "stdout",
     "output_type": "stream",
     "text": [
      "7/7 [==============================] - 11s 2s/step - loss: 0.5793 - binary_accuracy: 0.7353 - mae: 0.4039 - val_loss: 0.5842 - val_binary_accuracy: 0.7308 - val_mae: 0.4056\n",
      "Epoch 45/50\n"
     ]
    },
    {
     "data": {
      "application/vnd.jupyter.widget-view+json": {
       "model_id": "41f299fbe6ae4a0aba7cd2077e2ab6b2",
       "version_major": 2,
       "version_minor": 0
      },
      "text/plain": [
       "HBox(children=(IntProgress(value=0, description='Epoch 44', max=7, style=ProgressStyle(description_width='init…"
      ]
     },
     "metadata": {},
     "output_type": "display_data"
    },
    {
     "name": "stdout",
     "output_type": "stream",
     "text": [
      "7/7 [==============================] - 12s 2s/step - loss: 0.5866 - binary_accuracy: 0.7402 - mae: 0.4016 - val_loss: 0.5841 - val_binary_accuracy: 0.7308 - val_mae: 0.4053\n",
      "Epoch 46/50\n"
     ]
    },
    {
     "data": {
      "application/vnd.jupyter.widget-view+json": {
       "model_id": "ee5b9f38182d41ba99de35debdc64ee8",
       "version_major": 2,
       "version_minor": 0
      },
      "text/plain": [
       "HBox(children=(IntProgress(value=0, description='Epoch 45', max=7, style=ProgressStyle(description_width='init…"
      ]
     },
     "metadata": {},
     "output_type": "display_data"
    },
    {
     "name": "stdout",
     "output_type": "stream",
     "text": [
      "7/7 [==============================] - 11s 2s/step - loss: 0.6041 - binary_accuracy: 0.7255 - mae: 0.4074 - val_loss: 0.5841 - val_binary_accuracy: 0.7308 - val_mae: 0.4052\n",
      "Epoch 47/50\n"
     ]
    },
    {
     "data": {
      "application/vnd.jupyter.widget-view+json": {
       "model_id": "9ed005df6ae943d9bc3f66c08f52acd2",
       "version_major": 2,
       "version_minor": 0
      },
      "text/plain": [
       "HBox(children=(IntProgress(value=0, description='Epoch 46', max=7, style=ProgressStyle(description_width='init…"
      ]
     },
     "metadata": {},
     "output_type": "display_data"
    },
    {
     "name": "stdout",
     "output_type": "stream",
     "text": [
      "7/7 [==============================] - 10s 1s/step - loss: 0.5890 - binary_accuracy: 0.7283 - mae: 0.4062 - val_loss: 0.5840 - val_binary_accuracy: 0.7308 - val_mae: 0.4051\n",
      "Epoch 48/50\n"
     ]
    },
    {
     "data": {
      "application/vnd.jupyter.widget-view+json": {
       "model_id": "ef60f95f0f3e42f68334fa410da0bca3",
       "version_major": 2,
       "version_minor": 0
      },
      "text/plain": [
       "HBox(children=(IntProgress(value=0, description='Epoch 47', max=7, style=ProgressStyle(description_width='init…"
      ]
     },
     "metadata": {},
     "output_type": "display_data"
    },
    {
     "name": "stdout",
     "output_type": "stream",
     "text": [
      "7/7 [==============================] - 13s 2s/step - loss: 0.5789 - binary_accuracy: 0.7366 - mae: 0.4026 - val_loss: 0.5840 - val_binary_accuracy: 0.7308 - val_mae: 0.4049\n",
      "Epoch 49/50\n"
     ]
    },
    {
     "data": {
      "application/vnd.jupyter.widget-view+json": {
       "model_id": "214defc9214f4a7ab74c4504efde83b6",
       "version_major": 2,
       "version_minor": 0
      },
      "text/plain": [
       "HBox(children=(IntProgress(value=0, description='Epoch 48', max=7, style=ProgressStyle(description_width='init…"
      ]
     },
     "metadata": {},
     "output_type": "display_data"
    },
    {
     "name": "stdout",
     "output_type": "stream",
     "text": [
      "7/7 [==============================] - 13s 2s/step - loss: 0.5517 - binary_accuracy: 0.7549 - mae: 0.3948 - val_loss: 0.5839 - val_binary_accuracy: 0.7308 - val_mae: 0.4046\n",
      "Epoch 50/50\n"
     ]
    },
    {
     "data": {
      "application/vnd.jupyter.widget-view+json": {
       "model_id": "32c290e913954541b03f902926a90792",
       "version_major": 2,
       "version_minor": 0
      },
      "text/plain": [
       "HBox(children=(IntProgress(value=0, description='Epoch 49', max=7, style=ProgressStyle(description_width='init…"
      ]
     },
     "metadata": {},
     "output_type": "display_data"
    },
    {
     "name": "stdout",
     "output_type": "stream",
     "text": [
      "7/7 [==============================] - 12s 2s/step - loss: 0.5851 - binary_accuracy: 0.7206 - mae: 0.4087 - val_loss: 0.5839 - val_binary_accuracy: 0.7308 - val_mae: 0.4044\n",
      "\n"
     ]
    }
   ],
   "source": [
    "from keras_tqdm import TQDMNotebookCallback\n",
    "\n",
    "batch_size = 32\n",
    "history = model.fit_generator(\n",
    "    generator=training,\n",
    "    steps_per_epoch=training.samples // batch_size,\n",
    "    epochs=50,\n",
    "    callbacks=[TQDMNotebookCallback(leave_inner=True, leave_outer=True)],\n",
    "    validation_data=validation,\n",
    "    validation_steps=validation.samples // batch_size\n",
    ")"
   ]
  },
  {
   "cell_type": "code",
   "execution_count": 20,
   "metadata": {},
   "outputs": [
    {
     "data": {
      "image/png": "[encoded data removed]",
      "text/plain": [
       "<Figure size 432x288 with 1 Axes>"
      ]
     },
     "metadata": {
      "needs_background": "light"
     },
     "output_type": "display_data"
    }
   ],
   "source": [
    "import matplotlib.pyplot as plt\n",
    "plt.plot(history.history['loss'])\n",
    "plt.plot(history.history['val_loss'])\n",
    "plt.title('Model loss')\n",
    "plt.ylabel('Loss')\n",
    "plt.xlabel('Epoch')\n",
    "plt.legend(['Train', 'Validation'], loc='upper left')\n",
    "plt.show()"
   ]
  },
  {
   "cell_type": "code",
   "execution_count": 21,
   "metadata": {},
   "outputs": [
    {
     "data": {
      "image/png": "[encoded data removed]",
      "text/plain": [
       "<Figure size 432x288 with 1 Axes>"
      ]
     },
     "metadata": {
      "needs_background": "light"
     },
     "output_type": "display_data"
    }
   ],
   "source": [
    "import matplotlib.pyplot as plt\n",
    "plt.plot(history.history['binary_accuracy'])\n",
    "plt.plot(history.history['val_binary_accuracy'])\n",
    "plt.title('Model Accuracy')\n",
    "plt.ylabel('Accuracy')\n",
    "plt.xlabel('Epoch')\n",
    "plt.legend(['Train', 'Validation'], loc='upper left')\n",
    "plt.show()"
   ]
  },
  {
   "cell_type": "markdown",
   "metadata": {},
   "source": [
    "# not much luck :(\n",
    "# for one, we need more data!!! We only have around 300 xray images.\n",
    "### We notice that accuracy keeps oscillating, maybe we are stuck at local minima...let's try NADAM!"
   ]
  },
  {
   "cell_type": "code",
   "execution_count": 26,
   "metadata": {},
   "outputs": [
    {
     "name": "stdout",
     "output_type": "stream",
     "text": [
      "Model: \"sequential_2\"\n",
      "_________________________________________________________________\n",
      "Layer (type)                 Output Shape              Param #   \n",
      "=================================================================\n",
      "mobilenet_1.00_128 (Model)   (None, 4, 4, 1024)        3228288   \n",
      "_________________________________________________________________\n",
      "global_average_pooling2d_2 ( (None, 1024)              0         \n",
      "_________________________________________________________________\n",
      "dropout_3 (Dropout)          (None, 1024)              0         \n",
      "_________________________________________________________________\n",
      "dense_5 (Dense)              (None, 512)               524800    \n",
      "_________________________________________________________________\n",
      "dropout_4 (Dropout)          (None, 512)               0         \n",
      "_________________________________________________________________\n",
      "dense_6 (Dense)              (None, 13)                6669      \n",
      "_________________________________________________________________\n",
      "dense_7 (Dense)              (None, 20)                280       \n",
      "_________________________________________________________________\n",
      "dense_8 (Dense)              (None, 2)                 42        \n",
      "_________________________________________________________________\n",
      "softmax_2 (Softmax)          (None, 2)                 0         \n",
      "=================================================================\n",
      "Total params: 3,760,079\n",
      "Trainable params: 3,738,191\n",
      "Non-trainable params: 21,888\n",
      "_________________________________________________________________\n"
     ]
    }
   ],
   "source": [
    "import tensorflow as tf\n",
    "model.compile(optimizer =tf.keras.optimizers.Nadam(learning_rate=0.002, beta_1=0.9, beta_2=0.999),\n",
    "              loss = 'binary_crossentropy', metrics = ['binary_accuracy', 'mae'])\n",
    "model.summary()"
   ]
  },
  {
   "cell_type": "code",
   "execution_count": 27,
   "metadata": {},
   "outputs": [
    {
     "name": "stdout",
     "output_type": "stream",
     "text": [
      "Found 236 images belonging to 2 classes.\n",
      "Found 26 images belonging to 2 classes.\n"
     ]
    },
    {
     "data": {
      "application/vnd.jupyter.widget-view+json": {
       "model_id": "feaed0973a0c4dc387e1388538af14ce",
       "version_major": 2,
       "version_minor": 0
      },
      "text/plain": [
       "HBox(children=(IntProgress(value=0, description='Training', max=50, style=ProgressStyle(description_width='ini…"
      ]
     },
     "metadata": {},
     "output_type": "display_data"
    },
    {
     "name": "stdout",
     "output_type": "stream",
     "text": [
      "Epoch 1/50\n"
     ]
    },
    {
     "data": {
      "application/vnd.jupyter.widget-view+json": {
       "model_id": "3fe249bb7bef45368e78cfd70d8fc8db",
       "version_major": 2,
       "version_minor": 0
      },
      "text/plain": [
       "HBox(children=(IntProgress(value=0, description='Epoch 0', max=7, style=ProgressStyle(description_width='initi…"
      ]
     },
     "metadata": {},
     "output_type": "display_data"
    },
    {
     "name": "stdout",
     "output_type": "stream",
     "text": [
      "7/7 [==============================] - 15s 2s/step - loss: 0.5787 - binary_accuracy: 0.7366 - mae: 0.4014 - val_loss: 0.5836 - val_binary_accuracy: 0.7308 - val_mae: 0.4035\n",
      "Epoch 2/50\n"
     ]
    },
    {
     "data": {
      "application/vnd.jupyter.widget-view+json": {
       "model_id": "8ffb822de2ad40199f25adb41aa14efd",
       "version_major": 2,
       "version_minor": 0
      },
      "text/plain": [
       "HBox(children=(IntProgress(value=0, description='Epoch 1', max=7, style=ProgressStyle(description_width='initi…"
      ]
     },
     "metadata": {},
     "output_type": "display_data"
    },
    {
     "name": "stdout",
     "output_type": "stream",
     "text": [
      "7/7 [==============================] - 12s 2s/step - loss: 0.5967 - binary_accuracy: 0.7206 - mae: 0.4081 - val_loss: 0.5836 - val_binary_accuracy: 0.7308 - val_mae: 0.4034\n",
      "Epoch 3/50\n"
     ]
    },
    {
     "data": {
      "application/vnd.jupyter.widget-view+json": {
       "model_id": "6e741cca665e45238732e105e08b59c0",
       "version_major": 2,
       "version_minor": 0
      },
      "text/plain": [
       "HBox(children=(IntProgress(value=0, description='Epoch 2', max=7, style=ProgressStyle(description_width='initi…"
      ]
     },
     "metadata": {},
     "output_type": "display_data"
    },
    {
     "name": "stdout",
     "output_type": "stream",
     "text": [
      "7/7 [==============================] - 10s 1s/step - loss: 0.5963 - binary_accuracy: 0.7337 - mae: 0.4019 - val_loss: 0.5836 - val_binary_accuracy: 0.7308 - val_mae: 0.4031\n",
      "Epoch 4/50\n"
     ]
    },
    {
     "data": {
      "application/vnd.jupyter.widget-view+json": {
       "model_id": "4ad96db66c0e4556a1437957f12ca7f0",
       "version_major": 2,
       "version_minor": 0
      },
      "text/plain": [
       "HBox(children=(IntProgress(value=0, description='Epoch 3', max=7, style=ProgressStyle(description_width='initi…"
      ]
     },
     "metadata": {},
     "output_type": "display_data"
    },
    {
     "name": "stdout",
     "output_type": "stream",
     "text": [
      "7/7 [==============================] - 12s 2s/step - loss: 0.5862 - binary_accuracy: 0.7402 - mae: 0.3990 - val_loss: 0.5835 - val_binary_accuracy: 0.7308 - val_mae: 0.4027\n",
      "Epoch 5/50\n"
     ]
    },
    {
     "data": {
      "application/vnd.jupyter.widget-view+json": {
       "model_id": "48f56adcbd3b479d8e5f69da45eb86c1",
       "version_major": 2,
       "version_minor": 0
      },
      "text/plain": [
       "HBox(children=(IntProgress(value=0, description='Epoch 4', max=7, style=ProgressStyle(description_width='initi…"
      ]
     },
     "metadata": {},
     "output_type": "display_data"
    },
    {
     "name": "stdout",
     "output_type": "stream",
     "text": [
      "7/7 [==============================] - 11s 2s/step - loss: 0.6002 - binary_accuracy: 0.7304 - mae: 0.4028 - val_loss: 0.5835 - val_binary_accuracy: 0.7308 - val_mae: 0.4026\n",
      "Epoch 6/50\n"
     ]
    },
    {
     "data": {
      "application/vnd.jupyter.widget-view+json": {
       "model_id": "124c2e08ea7f433ea7118423552b8923",
       "version_major": 2,
       "version_minor": 0
      },
      "text/plain": [
       "HBox(children=(IntProgress(value=0, description='Epoch 5', max=7, style=ProgressStyle(description_width='initi…"
      ]
     },
     "metadata": {},
     "output_type": "display_data"
    },
    {
     "name": "stdout",
     "output_type": "stream",
     "text": [
      "7/7 [==============================] - 13s 2s/step - loss: 0.5782 - binary_accuracy: 0.7366 - mae: 0.3999 - val_loss: 0.5834 - val_binary_accuracy: 0.7308 - val_mae: 0.4022\n",
      "Epoch 7/50\n"
     ]
    },
    {
     "data": {
      "application/vnd.jupyter.widget-view+json": {
       "model_id": "2b80812dd7f14916b14da53f31042d4d",
       "version_major": 2,
       "version_minor": 0
      },
      "text/plain": [
       "HBox(children=(IntProgress(value=0, description='Epoch 6', max=7, style=ProgressStyle(description_width='initi…"
      ]
     },
     "metadata": {},
     "output_type": "display_data"
    },
    {
     "name": "stdout",
     "output_type": "stream",
     "text": [
      "7/7 [==============================] - 11s 2s/step - loss: 0.5823 - binary_accuracy: 0.7304 - mae: 0.4021 - val_loss: 0.5833 - val_binary_accuracy: 0.7308 - val_mae: 0.4018\n",
      "Epoch 8/50\n"
     ]
    },
    {
     "data": {
      "application/vnd.jupyter.widget-view+json": {
       "model_id": "6cc1635f94b14366b52fea4a5f003d30",
       "version_major": 2,
       "version_minor": 0
      },
      "text/plain": [
       "HBox(children=(IntProgress(value=0, description='Epoch 7', max=7, style=ProgressStyle(description_width='initi…"
      ]
     },
     "metadata": {},
     "output_type": "display_data"
    },
    {
     "name": "stdout",
     "output_type": "stream",
     "text": [
      "7/7 [==============================] - 12s 2s/step - loss: 0.5841 - binary_accuracy: 0.7353 - mae: 0.3996 - val_loss: 0.5832 - val_binary_accuracy: 0.7308 - val_mae: 0.4014\n",
      "Epoch 9/50\n"
     ]
    },
    {
     "data": {
      "application/vnd.jupyter.widget-view+json": {
       "model_id": "f8d75cabf1a1451f934d9a9fc7da37c8",
       "version_major": 2,
       "version_minor": 0
      },
      "text/plain": [
       "HBox(children=(IntProgress(value=0, description='Epoch 8', max=7, style=ProgressStyle(description_width='initi…"
      ]
     },
     "metadata": {},
     "output_type": "display_data"
    },
    {
     "name": "stdout",
     "output_type": "stream",
     "text": [
      "7/7 [==============================] - 12s 2s/step - loss: 0.5883 - binary_accuracy: 0.7304 - mae: 0.4012 - val_loss: 0.5832 - val_binary_accuracy: 0.7308 - val_mae: 0.4011\n",
      "Epoch 10/50\n"
     ]
    },
    {
     "data": {
      "application/vnd.jupyter.widget-view+json": {
       "model_id": "814aca21ae4044f28d6b0b98b0324807",
       "version_major": 2,
       "version_minor": 0
      },
      "text/plain": [
       "HBox(children=(IntProgress(value=0, description='Epoch 9', max=7, style=ProgressStyle(description_width='initi…"
      ]
     },
     "metadata": {},
     "output_type": "display_data"
    },
    {
     "name": "stdout",
     "output_type": "stream",
     "text": [
      "7/7 [==============================] - 11s 2s/step - loss: 0.5697 - binary_accuracy: 0.7451 - mae: 0.3948 - val_loss: 0.5831 - val_binary_accuracy: 0.7308 - val_mae: 0.4007\n",
      "Epoch 11/50\n"
     ]
    },
    {
     "data": {
      "application/vnd.jupyter.widget-view+json": {
       "model_id": "3b663a73c0884a4eb9c0be258b0cb1f4",
       "version_major": 2,
       "version_minor": 0
      },
      "text/plain": [
       "HBox(children=(IntProgress(value=0, description='Epoch 10', max=7, style=ProgressStyle(description_width='init…"
      ]
     },
     "metadata": {},
     "output_type": "display_data"
    },
    {
     "name": "stdout",
     "output_type": "stream",
     "text": [
      "7/7 [==============================] - 12s 2s/step - loss: 0.6208 - binary_accuracy: 0.7059 - mae: 0.4116 - val_loss: 0.5831 - val_binary_accuracy: 0.7308 - val_mae: 0.4009\n",
      "Epoch 12/50\n"
     ]
    },
    {
     "data": {
      "application/vnd.jupyter.widget-view+json": {
       "model_id": "a16b3f8caa1a40aab30396b99fd2c60b",
       "version_major": 2,
       "version_minor": 0
      },
      "text/plain": [
       "HBox(children=(IntProgress(value=0, description='Epoch 11', max=7, style=ProgressStyle(description_width='init…"
      ]
     },
     "metadata": {},
     "output_type": "display_data"
    },
    {
     "name": "stdout",
     "output_type": "stream",
     "text": [
      "7/7 [==============================] - 12s 2s/step - loss: 0.5325 - binary_accuracy: 0.7857 - mae: 0.3769 - val_loss: 0.5830 - val_binary_accuracy: 0.7308 - val_mae: 0.4001\n",
      "Epoch 13/50\n"
     ]
    },
    {
     "data": {
      "application/vnd.jupyter.widget-view+json": {
       "model_id": "494898d9a6e74d7ab3200df54322ea04",
       "version_major": 2,
       "version_minor": 0
      },
      "text/plain": [
       "HBox(children=(IntProgress(value=0, description='Epoch 12', max=7, style=ProgressStyle(description_width='init…"
      ]
     },
     "metadata": {},
     "output_type": "display_data"
    },
    {
     "name": "stdout",
     "output_type": "stream",
     "text": [
      "7/7 [==============================] - 11s 2s/step - loss: 0.6150 - binary_accuracy: 0.7059 - mae: 0.4110 - val_loss: 0.5830 - val_binary_accuracy: 0.7308 - val_mae: 0.4002\n",
      "Epoch 14/50\n"
     ]
    },
    {
     "data": {
      "application/vnd.jupyter.widget-view+json": {
       "model_id": "0dd810db36414d448e5af67dbfc81f7e",
       "version_major": 2,
       "version_minor": 0
      },
      "text/plain": [
       "HBox(children=(IntProgress(value=0, description='Epoch 13', max=7, style=ProgressStyle(description_width='init…"
      ]
     },
     "metadata": {},
     "output_type": "display_data"
    },
    {
     "name": "stdout",
     "output_type": "stream",
     "text": [
      "7/7 [==============================] - 11s 2s/step - loss: 0.5822 - binary_accuracy: 0.7283 - mae: 0.4011 - val_loss: 0.5830 - val_binary_accuracy: 0.7308 - val_mae: 0.3999\n",
      "Epoch 15/50\n"
     ]
    },
    {
     "data": {
      "application/vnd.jupyter.widget-view+json": {
       "model_id": "fd55eaf137bc4cc38a44543fe4f00367",
       "version_major": 2,
       "version_minor": 0
      },
      "text/plain": [
       "HBox(children=(IntProgress(value=0, description='Epoch 14', max=7, style=ProgressStyle(description_width='init…"
      ]
     },
     "metadata": {},
     "output_type": "display_data"
    },
    {
     "name": "stdout",
     "output_type": "stream",
     "text": [
      "7/7 [==============================] - 12s 2s/step - loss: 0.6066 - binary_accuracy: 0.7054 - mae: 0.4109 - val_loss: 0.5830 - val_binary_accuracy: 0.7308 - val_mae: 0.4000\n",
      "Epoch 16/50\n"
     ]
    },
    {
     "data": {
      "application/vnd.jupyter.widget-view+json": {
       "model_id": "9cc084e392534ac0b6931f11fafd84cc",
       "version_major": 2,
       "version_minor": 0
      },
      "text/plain": [
       "HBox(children=(IntProgress(value=0, description='Epoch 15', max=7, style=ProgressStyle(description_width='init…"
      ]
     },
     "metadata": {},
     "output_type": "display_data"
    },
    {
     "name": "stdout",
     "output_type": "stream",
     "text": [
      "7/7 [==============================] - 12s 2s/step - loss: 0.5610 - binary_accuracy: 0.7549 - mae: 0.3895 - val_loss: 0.5829 - val_binary_accuracy: 0.7308 - val_mae: 0.3996\n",
      "Epoch 17/50\n"
     ]
    },
    {
     "data": {
      "application/vnd.jupyter.widget-view+json": {
       "model_id": "324ffe2ffb4241c69b0d2b092c8de729",
       "version_major": 2,
       "version_minor": 0
      },
      "text/plain": [
       "HBox(children=(IntProgress(value=0, description='Epoch 16', max=7, style=ProgressStyle(description_width='init…"
      ]
     },
     "metadata": {},
     "output_type": "display_data"
    },
    {
     "name": "stdout",
     "output_type": "stream",
     "text": [
      "7/7 [==============================] - 12s 2s/step - loss: 0.5903 - binary_accuracy: 0.7206 - mae: 0.4041 - val_loss: 0.5829 - val_binary_accuracy: 0.7308 - val_mae: 0.3995\n",
      "Epoch 18/50\n"
     ]
    },
    {
     "data": {
      "application/vnd.jupyter.widget-view+json": {
       "model_id": "abfd13f61c1d41838ba8981cb6da0d1d",
       "version_major": 2,
       "version_minor": 0
      },
      "text/plain": [
       "HBox(children=(IntProgress(value=0, description='Epoch 17', max=7, style=ProgressStyle(description_width='init…"
      ]
     },
     "metadata": {},
     "output_type": "display_data"
    },
    {
     "name": "stdout",
     "output_type": "stream",
     "text": [
      "7/7 [==============================] - 11s 2s/step - loss: 0.5607 - binary_accuracy: 0.7549 - mae: 0.3887 - val_loss: 0.5828 - val_binary_accuracy: 0.7308 - val_mae: 0.3989\n",
      "Epoch 19/50\n"
     ]
    },
    {
     "data": {
      "application/vnd.jupyter.widget-view+json": {
       "model_id": "3a6e41fc0d7c4cfda98b9beb260ce4b1",
       "version_major": 2,
       "version_minor": 0
      },
      "text/plain": [
       "HBox(children=(IntProgress(value=0, description='Epoch 18', max=7, style=ProgressStyle(description_width='init…"
      ]
     },
     "metadata": {},
     "output_type": "display_data"
    },
    {
     "name": "stdout",
     "output_type": "stream",
     "text": [
      "7/7 [==============================] - 13s 2s/step - loss: 0.5817 - binary_accuracy: 0.7321 - mae: 0.3985 - val_loss: 0.5828 - val_binary_accuracy: 0.7308 - val_mae: 0.3989\n",
      "Epoch 20/50\n"
     ]
    },
    {
     "data": {
      "application/vnd.jupyter.widget-view+json": {
       "model_id": "3e82c5df45aa430eae7e6732a3636c62",
       "version_major": 2,
       "version_minor": 0
      },
      "text/plain": [
       "HBox(children=(IntProgress(value=0, description='Epoch 19', max=7, style=ProgressStyle(description_width='init…"
      ]
     },
     "metadata": {},
     "output_type": "display_data"
    },
    {
     "name": "stdout",
     "output_type": "stream",
     "text": [
      "7/7 [==============================] - 12s 2s/step - loss: 0.6048 - binary_accuracy: 0.7108 - mae: 0.4077 - val_loss: 0.5829 - val_binary_accuracy: 0.7308 - val_mae: 0.3993\n",
      "Epoch 21/50\n"
     ]
    },
    {
     "data": {
      "application/vnd.jupyter.widget-view+json": {
       "model_id": "fbc2dcbf29a24068821e4e77076165bc",
       "version_major": 2,
       "version_minor": 0
      },
      "text/plain": [
       "HBox(children=(IntProgress(value=0, description='Epoch 20', max=7, style=ProgressStyle(description_width='init…"
      ]
     },
     "metadata": {},
     "output_type": "display_data"
    },
    {
     "name": "stdout",
     "output_type": "stream",
     "text": [
      "7/7 [==============================] - 11s 2s/step - loss: 0.5757 - binary_accuracy: 0.7304 - mae: 0.3992 - val_loss: 0.5828 - val_binary_accuracy: 0.7308 - val_mae: 0.3989\n",
      "Epoch 22/50\n"
     ]
    },
    {
     "data": {
      "application/vnd.jupyter.widget-view+json": {
       "model_id": "d3064768fd42440e878d5b33211d0eb7",
       "version_major": 2,
       "version_minor": 0
      },
      "text/plain": [
       "HBox(children=(IntProgress(value=0, description='Epoch 21', max=7, style=ProgressStyle(description_width='init…"
      ]
     },
     "metadata": {},
     "output_type": "display_data"
    },
    {
     "name": "stdout",
     "output_type": "stream",
     "text": [
      "7/7 [==============================] - 11s 2s/step - loss: 0.5970 - binary_accuracy: 0.7059 - mae: 0.4096 - val_loss: 0.5828 - val_binary_accuracy: 0.7308 - val_mae: 0.3987\n",
      "Epoch 23/50\n"
     ]
    },
    {
     "data": {
      "application/vnd.jupyter.widget-view+json": {
       "model_id": "5db02f98add24d8390fcee4334a34220",
       "version_major": 2,
       "version_minor": 0
      },
      "text/plain": [
       "HBox(children=(IntProgress(value=0, description='Epoch 22', max=7, style=ProgressStyle(description_width='init…"
      ]
     },
     "metadata": {},
     "output_type": "display_data"
    },
    {
     "name": "stdout",
     "output_type": "stream",
     "text": [
      "7/7 [==============================] - 12s 2s/step - loss: 0.5685 - binary_accuracy: 0.7598 - mae: 0.3858 - val_loss: 0.5828 - val_binary_accuracy: 0.7308 - val_mae: 0.3985\n",
      "Epoch 24/50\n"
     ]
    },
    {
     "data": {
      "application/vnd.jupyter.widget-view+json": {
       "model_id": "5d68e2f3cc1341dda32790378c33a67f",
       "version_major": 2,
       "version_minor": 0
      },
      "text/plain": [
       "HBox(children=(IntProgress(value=0, description='Epoch 23', max=7, style=ProgressStyle(description_width='init…"
      ]
     },
     "metadata": {},
     "output_type": "display_data"
    },
    {
     "name": "stdout",
     "output_type": "stream",
     "text": [
      "7/7 [==============================] - 12s 2s/step - loss: 0.5708 - binary_accuracy: 0.7500 - mae: 0.3900 - val_loss: 0.5828 - val_binary_accuracy: 0.7308 - val_mae: 0.3983\n",
      "Epoch 25/50\n"
     ]
    },
    {
     "data": {
      "application/vnd.jupyter.widget-view+json": {
       "model_id": "880e805ce537414aa2389453dcbe651c",
       "version_major": 2,
       "version_minor": 0
      },
      "text/plain": [
       "HBox(children=(IntProgress(value=0, description='Epoch 24', max=7, style=ProgressStyle(description_width='init…"
      ]
     },
     "metadata": {},
     "output_type": "display_data"
    },
    {
     "name": "stdout",
     "output_type": "stream",
     "text": [
      "7/7 [==============================] - 12s 2s/step - loss: 0.5670 - binary_accuracy: 0.7402 - mae: 0.3940 - val_loss: 0.5827 - val_binary_accuracy: 0.7308 - val_mae: 0.3980\n",
      "Epoch 26/50\n"
     ]
    },
    {
     "data": {
      "application/vnd.jupyter.widget-view+json": {
       "model_id": "7aec108ed8254edb80cd76b3dc352c7b",
       "version_major": 2,
       "version_minor": 0
      },
      "text/plain": [
       "HBox(children=(IntProgress(value=0, description='Epoch 25', max=7, style=ProgressStyle(description_width='init…"
      ]
     },
     "metadata": {},
     "output_type": "display_data"
    },
    {
     "name": "stdout",
     "output_type": "stream",
     "text": [
      "7/7 [==============================] - 11s 2s/step - loss: 0.5865 - binary_accuracy: 0.7108 - mae: 0.4069 - val_loss: 0.5827 - val_binary_accuracy: 0.7308 - val_mae: 0.3979\n",
      "Epoch 27/50\n"
     ]
    },
    {
     "data": {
      "application/vnd.jupyter.widget-view+json": {
       "model_id": "18e7c9aa0a2448218ecb0458b9cff4e1",
       "version_major": 2,
       "version_minor": 0
      },
      "text/plain": [
       "HBox(children=(IntProgress(value=0, description='Epoch 26', max=7, style=ProgressStyle(description_width='init…"
      ]
     },
     "metadata": {},
     "output_type": "display_data"
    },
    {
     "name": "stdout",
     "output_type": "stream",
     "text": [
      "7/7 [==============================] - 12s 2s/step - loss: 0.5558 - binary_accuracy: 0.7598 - mae: 0.3849 - val_loss: 0.5827 - val_binary_accuracy: 0.7308 - val_mae: 0.3975\n",
      "Epoch 28/50\n"
     ]
    },
    {
     "data": {
      "application/vnd.jupyter.widget-view+json": {
       "model_id": "c6b2f560fdc0409a94fe3d4a98be834a",
       "version_major": 2,
       "version_minor": 0
      },
      "text/plain": [
       "HBox(children=(IntProgress(value=0, description='Epoch 27', max=7, style=ProgressStyle(description_width='init…"
      ]
     },
     "metadata": {},
     "output_type": "display_data"
    },
    {
     "name": "stdout",
     "output_type": "stream",
     "text": [
      "7/7 [==============================] - 12s 2s/step - loss: 0.5942 - binary_accuracy: 0.7188 - mae: 0.4029 - val_loss: 0.5827 - val_binary_accuracy: 0.7308 - val_mae: 0.3975\n",
      "Epoch 29/50\n"
     ]
    },
    {
     "data": {
      "application/vnd.jupyter.widget-view+json": {
       "model_id": "e35a7a560adb472fb1b728aa497877ac",
       "version_major": 2,
       "version_minor": 0
      },
      "text/plain": [
       "HBox(children=(IntProgress(value=0, description='Epoch 28', max=7, style=ProgressStyle(description_width='init…"
      ]
     },
     "metadata": {},
     "output_type": "display_data"
    },
    {
     "name": "stdout",
     "output_type": "stream",
     "text": [
      "7/7 [==============================] - 11s 2s/step - loss: 0.5729 - binary_accuracy: 0.7402 - mae: 0.3932 - val_loss: 0.5827 - val_binary_accuracy: 0.7308 - val_mae: 0.3973\n",
      "Epoch 30/50\n"
     ]
    },
    {
     "data": {
      "application/vnd.jupyter.widget-view+json": {
       "model_id": "5070b9ea3b8b400588574bc778e1e00e",
       "version_major": 2,
       "version_minor": 0
      },
      "text/plain": [
       "HBox(children=(IntProgress(value=0, description='Epoch 29', max=7, style=ProgressStyle(description_width='init…"
      ]
     },
     "metadata": {},
     "output_type": "display_data"
    },
    {
     "name": "stdout",
     "output_type": "stream",
     "text": [
      "7/7 [==============================] - 11s 2s/step - loss: 0.5774 - binary_accuracy: 0.7337 - mae: 0.3960 - val_loss: 0.5827 - val_binary_accuracy: 0.7308 - val_mae: 0.3972\n",
      "Epoch 31/50\n"
     ]
    },
    {
     "data": {
      "application/vnd.jupyter.widget-view+json": {
       "model_id": "42987d1ce3de4414ab5296476c67e40c",
       "version_major": 2,
       "version_minor": 0
      },
      "text/plain": [
       "HBox(children=(IntProgress(value=0, description='Epoch 30', max=7, style=ProgressStyle(description_width='init…"
      ]
     },
     "metadata": {},
     "output_type": "display_data"
    },
    {
     "name": "stdout",
     "output_type": "stream",
     "text": [
      "7/7 [==============================] - 12s 2s/step - loss: 0.5813 - binary_accuracy: 0.7321 - mae: 0.3965 - val_loss: 0.5826 - val_binary_accuracy: 0.7308 - val_mae: 0.3971\n",
      "Epoch 32/50\n"
     ]
    },
    {
     "data": {
      "application/vnd.jupyter.widget-view+json": {
       "model_id": "b536ce82e3114d12b246bde3abe05f81",
       "version_major": 2,
       "version_minor": 0
      },
      "text/plain": [
       "HBox(children=(IntProgress(value=0, description='Epoch 31', max=7, style=ProgressStyle(description_width='init…"
      ]
     },
     "metadata": {},
     "output_type": "display_data"
    },
    {
     "name": "stdout",
     "output_type": "stream",
     "text": [
      "7/7 [==============================] - 11s 2s/step - loss: 0.5815 - binary_accuracy: 0.7304 - mae: 0.3972 - val_loss: 0.5826 - val_binary_accuracy: 0.7308 - val_mae: 0.3970\n",
      "Epoch 33/50\n"
     ]
    },
    {
     "data": {
      "application/vnd.jupyter.widget-view+json": {
       "model_id": "d95e9c159ce7422dbf62e5b8dee54924",
       "version_major": 2,
       "version_minor": 0
      },
      "text/plain": [
       "HBox(children=(IntProgress(value=0, description='Epoch 32', max=7, style=ProgressStyle(description_width='init…"
      ]
     },
     "metadata": {},
     "output_type": "display_data"
    },
    {
     "name": "stdout",
     "output_type": "stream",
     "text": [
      "7/7 [==============================] - 11s 2s/step - loss: 0.5690 - binary_accuracy: 0.7304 - mae: 0.3970 - val_loss: 0.5826 - val_binary_accuracy: 0.7308 - val_mae: 0.3968\n",
      "Epoch 34/50\n"
     ]
    },
    {
     "data": {
      "application/vnd.jupyter.widget-view+json": {
       "model_id": "0ab5bf99645e4cdca144e9aba8b31aa5",
       "version_major": 2,
       "version_minor": 0
      },
      "text/plain": [
       "HBox(children=(IntProgress(value=0, description='Epoch 33', max=7, style=ProgressStyle(description_width='init…"
      ]
     },
     "metadata": {},
     "output_type": "display_data"
    },
    {
     "name": "stdout",
     "output_type": "stream",
     "text": [
      "7/7 [==============================] - 11s 2s/step - loss: 0.5641 - binary_accuracy: 0.7500 - mae: 0.3882 - val_loss: 0.5826 - val_binary_accuracy: 0.7308 - val_mae: 0.3967\n",
      "Epoch 35/50\n"
     ]
    },
    {
     "data": {
      "application/vnd.jupyter.widget-view+json": {
       "model_id": "c804cb766495492e8c935d11e98fcef0",
       "version_major": 2,
       "version_minor": 0
      },
      "text/plain": [
       "HBox(children=(IntProgress(value=0, description='Epoch 34', max=7, style=ProgressStyle(description_width='init…"
      ]
     },
     "metadata": {},
     "output_type": "display_data"
    },
    {
     "name": "stdout",
     "output_type": "stream",
     "text": [
      "7/7 [==============================] - 12s 2s/step - loss: 0.5856 - binary_accuracy: 0.7277 - mae: 0.3981 - val_loss: 0.5826 - val_binary_accuracy: 0.7308 - val_mae: 0.3967\n",
      "Epoch 36/50\n"
     ]
    },
    {
     "data": {
      "application/vnd.jupyter.widget-view+json": {
       "model_id": "e11f3b06c815482fba7c8d36113d9bf3",
       "version_major": 2,
       "version_minor": 0
      },
      "text/plain": [
       "HBox(children=(IntProgress(value=0, description='Epoch 35', max=7, style=ProgressStyle(description_width='init…"
      ]
     },
     "metadata": {},
     "output_type": "display_data"
    },
    {
     "name": "stdout",
     "output_type": "stream",
     "text": [
      "7/7 [==============================] - 11s 2s/step - loss: 0.5987 - binary_accuracy: 0.7228 - mae: 0.4002 - val_loss: 0.5826 - val_binary_accuracy: 0.7308 - val_mae: 0.3967\n",
      "Epoch 37/50\n"
     ]
    },
    {
     "data": {
      "application/vnd.jupyter.widget-view+json": {
       "model_id": "414fe0935c774e819b1f92cf53341e36",
       "version_major": 2,
       "version_minor": 0
      },
      "text/plain": [
       "HBox(children=(IntProgress(value=0, description='Epoch 36', max=7, style=ProgressStyle(description_width='init…"
      ]
     },
     "metadata": {},
     "output_type": "display_data"
    },
    {
     "name": "stdout",
     "output_type": "stream",
     "text": [
      "7/7 [==============================] - 12s 2s/step - loss: 0.5534 - binary_accuracy: 0.7549 - mae: 0.3859 - val_loss: 0.5826 - val_binary_accuracy: 0.7308 - val_mae: 0.3965\n",
      "Epoch 38/50\n"
     ]
    },
    {
     "data": {
      "application/vnd.jupyter.widget-view+json": {
       "model_id": "9c8a0c3c3e524b169970b02740f5ada6",
       "version_major": 2,
       "version_minor": 0
      },
      "text/plain": [
       "HBox(children=(IntProgress(value=0, description='Epoch 37', max=7, style=ProgressStyle(description_width='init…"
      ]
     },
     "metadata": {},
     "output_type": "display_data"
    },
    {
     "name": "stdout",
     "output_type": "stream",
     "text": [
      "7/7 [==============================] - 13s 2s/step - loss: 0.6071 - binary_accuracy: 0.7054 - mae: 0.4079 - val_loss: 0.5826 - val_binary_accuracy: 0.7308 - val_mae: 0.3966\n",
      "Epoch 39/50\n"
     ]
    },
    {
     "data": {
      "application/vnd.jupyter.widget-view+json": {
       "model_id": "9af5de6d7a5640cb84bb38d23167149a",
       "version_major": 2,
       "version_minor": 0
      },
      "text/plain": [
       "HBox(children=(IntProgress(value=0, description='Epoch 38', max=7, style=ProgressStyle(description_width='init…"
      ]
     },
     "metadata": {},
     "output_type": "display_data"
    },
    {
     "name": "stdout",
     "output_type": "stream",
     "text": [
      "7/7 [==============================] - 11s 2s/step - loss: 0.5965 - binary_accuracy: 0.7206 - mae: 0.4011 - val_loss: 0.5826 - val_binary_accuracy: 0.7308 - val_mae: 0.3966\n",
      "Epoch 40/50\n"
     ]
    },
    {
     "data": {
      "application/vnd.jupyter.widget-view+json": {
       "model_id": "17641d2954e44211bbe3493e0cff2ce1",
       "version_major": 2,
       "version_minor": 0
      },
      "text/plain": [
       "HBox(children=(IntProgress(value=0, description='Epoch 39', max=7, style=ProgressStyle(description_width='init…"
      ]
     },
     "metadata": {},
     "output_type": "display_data"
    },
    {
     "name": "stdout",
     "output_type": "stream",
     "text": [
      "7/7 [==============================] - 12s 2s/step - loss: 0.5723 - binary_accuracy: 0.7549 - mae: 0.3858 - val_loss: 0.5826 - val_binary_accuracy: 0.7308 - val_mae: 0.3965\n",
      "Epoch 41/50\n"
     ]
    },
    {
     "data": {
      "application/vnd.jupyter.widget-view+json": {
       "model_id": "837a687bc3dc4c97876fb612d12c69c1",
       "version_major": 2,
       "version_minor": 0
      },
      "text/plain": [
       "HBox(children=(IntProgress(value=0, description='Epoch 40', max=7, style=ProgressStyle(description_width='init…"
      ]
     },
     "metadata": {},
     "output_type": "display_data"
    },
    {
     "name": "stdout",
     "output_type": "stream",
     "text": [
      "7/7 [==============================] - 11s 2s/step - loss: 0.6023 - binary_accuracy: 0.7353 - mae: 0.3945 - val_loss: 0.5826 - val_binary_accuracy: 0.7308 - val_mae: 0.3965\n",
      "Epoch 42/50\n"
     ]
    },
    {
     "data": {
      "application/vnd.jupyter.widget-view+json": {
       "model_id": "f278dd5f28e6432d9f365662e04b5c11",
       "version_major": 2,
       "version_minor": 0
      },
      "text/plain": [
       "HBox(children=(IntProgress(value=0, description='Epoch 41', max=7, style=ProgressStyle(description_width='init…"
      ]
     },
     "metadata": {},
     "output_type": "display_data"
    },
    {
     "name": "stdout",
     "output_type": "stream",
     "text": [
      "7/7 [==============================] - 12s 2s/step - loss: 0.5728 - binary_accuracy: 0.7402 - mae: 0.3923 - val_loss: 0.5826 - val_binary_accuracy: 0.7308 - val_mae: 0.3965\n",
      "Epoch 43/50\n"
     ]
    },
    {
     "data": {
      "application/vnd.jupyter.widget-view+json": {
       "model_id": "0cc6970d1402470fa92e9264070cf374",
       "version_major": 2,
       "version_minor": 0
      },
      "text/plain": [
       "HBox(children=(IntProgress(value=0, description='Epoch 42', max=7, style=ProgressStyle(description_width='init…"
      ]
     },
     "metadata": {},
     "output_type": "display_data"
    },
    {
     "name": "stdout",
     "output_type": "stream",
     "text": [
      "7/7 [==============================] - 12s 2s/step - loss: 0.5733 - binary_accuracy: 0.7255 - mae: 0.3989 - val_loss: 0.5826 - val_binary_accuracy: 0.7308 - val_mae: 0.3964\n",
      "Epoch 44/50\n"
     ]
    },
    {
     "data": {
      "application/vnd.jupyter.widget-view+json": {
       "model_id": "44a561e6411040c08af9a7d00e824fa5",
       "version_major": 2,
       "version_minor": 0
      },
      "text/plain": [
       "HBox(children=(IntProgress(value=0, description='Epoch 43', max=7, style=ProgressStyle(description_width='init…"
      ]
     },
     "metadata": {},
     "output_type": "display_data"
    },
    {
     "name": "stdout",
     "output_type": "stream",
     "text": [
      "7/7 [==============================] - 13s 2s/step - loss: 0.5683 - binary_accuracy: 0.7455 - mae: 0.3897 - val_loss: 0.5826 - val_binary_accuracy: 0.7308 - val_mae: 0.3963\n",
      "Epoch 45/50\n"
     ]
    },
    {
     "data": {
      "application/vnd.jupyter.widget-view+json": {
       "model_id": "f5a7855c22154de197a44807e8831779",
       "version_major": 2,
       "version_minor": 0
      },
      "text/plain": [
       "HBox(children=(IntProgress(value=0, description='Epoch 44', max=7, style=ProgressStyle(description_width='init…"
      ]
     },
     "metadata": {},
     "output_type": "display_data"
    },
    {
     "name": "stdout",
     "output_type": "stream",
     "text": [
      "7/7 [==============================] - 11s 2s/step - loss: 0.5878 - binary_accuracy: 0.7304 - mae: 0.3965 - val_loss: 0.5826 - val_binary_accuracy: 0.7308 - val_mae: 0.3963\n",
      "Epoch 46/50\n"
     ]
    },
    {
     "data": {
      "application/vnd.jupyter.widget-view+json": {
       "model_id": "a63cba5115664a01a3e059f76a6617d6",
       "version_major": 2,
       "version_minor": 0
      },
      "text/plain": [
       "HBox(children=(IntProgress(value=0, description='Epoch 45', max=7, style=ProgressStyle(description_width='init…"
      ]
     },
     "metadata": {},
     "output_type": "display_data"
    },
    {
     "name": "stdout",
     "output_type": "stream",
     "text": [
      "7/7 [==============================] - 13s 2s/step - loss: 0.5864 - binary_accuracy: 0.7108 - mae: 0.4053 - val_loss: 0.5826 - val_binary_accuracy: 0.7308 - val_mae: 0.3962\n",
      "Epoch 47/50\n"
     ]
    },
    {
     "data": {
      "application/vnd.jupyter.widget-view+json": {
       "model_id": "377308ef55a7440ca6fae72215f772ac",
       "version_major": 2,
       "version_minor": 0
      },
      "text/plain": [
       "HBox(children=(IntProgress(value=0, description='Epoch 46', max=7, style=ProgressStyle(description_width='init…"
      ]
     },
     "metadata": {},
     "output_type": "display_data"
    },
    {
     "name": "stdout",
     "output_type": "stream",
     "text": [
      "7/7 [==============================] - 11s 2s/step - loss: 0.5790 - binary_accuracy: 0.7402 - mae: 0.3920 - val_loss: 0.5826 - val_binary_accuracy: 0.7308 - val_mae: 0.3962\n",
      "Epoch 48/50\n"
     ]
    },
    {
     "data": {
      "application/vnd.jupyter.widget-view+json": {
       "model_id": "4736fc8bd3dc4664b362b20e10d38897",
       "version_major": 2,
       "version_minor": 0
      },
      "text/plain": [
       "HBox(children=(IntProgress(value=0, description='Epoch 47', max=7, style=ProgressStyle(description_width='init…"
      ]
     },
     "metadata": {},
     "output_type": "display_data"
    },
    {
     "name": "stdout",
     "output_type": "stream",
     "text": [
      "7/7 [==============================] - 11s 2s/step - loss: 0.5708 - binary_accuracy: 0.7353 - mae: 0.3942 - val_loss: 0.5826 - val_binary_accuracy: 0.7308 - val_mae: 0.3961\n",
      "Epoch 49/50\n"
     ]
    },
    {
     "data": {
      "application/vnd.jupyter.widget-view+json": {
       "model_id": "e9f9baa7282044ae90b146ccca3f11a2",
       "version_major": 2,
       "version_minor": 0
      },
      "text/plain": [
       "HBox(children=(IntProgress(value=0, description='Epoch 48', max=7, style=ProgressStyle(description_width='init…"
      ]
     },
     "metadata": {},
     "output_type": "display_data"
    },
    {
     "name": "stdout",
     "output_type": "stream",
     "text": [
      "7/7 [==============================] - 13s 2s/step - loss: 0.5726 - binary_accuracy: 0.7411 - mae: 0.3915 - val_loss: 0.5826 - val_binary_accuracy: 0.7308 - val_mae: 0.3961\n",
      "Epoch 50/50\n"
     ]
    },
    {
     "data": {
      "application/vnd.jupyter.widget-view+json": {
       "model_id": "1933b8fc7ca04b919cb5497711470840",
       "version_major": 2,
       "version_minor": 0
      },
      "text/plain": [
       "HBox(children=(IntProgress(value=0, description='Epoch 49', max=7, style=ProgressStyle(description_width='init…"
      ]
     },
     "metadata": {},
     "output_type": "display_data"
    },
    {
     "name": "stdout",
     "output_type": "stream",
     "text": [
      "7/7 [==============================] - 10s 1s/step - loss: 0.5925 - binary_accuracy: 0.7228 - mae: 0.3997 - val_loss: 0.5826 - val_binary_accuracy: 0.7308 - val_mae: 0.3961\n",
      "\n"
     ]
    }
   ],
   "source": [
    "#is datagen reusable?\n",
    "datagen = ImageDataGenerator(\n",
    "    preprocessing_function=mnet.preprocess_input, shear_range=0.5, zoom_range=0.5,\n",
    "    horizontal_flip=True, validation_split=0.1)\n",
    "training = datagen.flow_from_directory( xrays_seg, target_size=(128, 128),                                    \n",
    "    color_mode = 'grayscale', save_to_dir='./training_aug', subset='training')\n",
    "validation = datagen.flow_from_directory( xrays_seg, target_size=(128, 128),\n",
    "    color_mode = 'grayscale', save_to_dir='./validation_aug', subset='validation') \n",
    "\n",
    "batch_size = 32\n",
    "history = model.fit_generator(\n",
    "    generator=training,\n",
    "    steps_per_epoch=training.samples // batch_size,\n",
    "    epochs=50,\n",
    "    callbacks=[TQDMNotebookCallback(leave_inner=True, leave_outer=True)],\n",
    "    validation_data=validation,\n",
    "    validation_steps=validation.samples // batch_size\n",
    ")"
   ]
  },
  {
   "cell_type": "code",
   "execution_count": 28,
   "metadata": {},
   "outputs": [
    {
     "data": {
      "image/png": "[encoded data removed]",
      "text/plain": [
       "<Figure size 432x288 with 1 Axes>"
      ]
     },
     "metadata": {
      "needs_background": "light"
     },
     "output_type": "display_data"
    }
   ],
   "source": [
    "import matplotlib.pyplot as plt\n",
    "plt.plot(history.history['loss'])\n",
    "plt.plot(history.history['val_loss'])\n",
    "plt.title('Model loss')\n",
    "plt.ylabel('Loss')\n",
    "plt.xlabel('Epoch')\n",
    "plt.legend(['Train', 'Validation'], loc='upper left')\n",
    "plt.show()"
   ]
  },
  {
   "cell_type": "code",
   "execution_count": 29,
   "metadata": {},
   "outputs": [
    {
     "data": {
      "image/png": "[encoded data removed]",
      "text/plain": [
       "<Figure size 432x288 with 1 Axes>"
      ]
     },
     "metadata": {
      "needs_background": "light"
     },
     "output_type": "display_data"
    }
   ],
   "source": [
    "import matplotlib.pyplot as plt\n",
    "plt.plot(history.history['binary_accuracy'])\n",
    "plt.plot(history.history['val_binary_accuracy'])\n",
    "plt.title('Model Accuracy')\n",
    "plt.ylabel('Accuracy')\n",
    "plt.xlabel('Epoch')\n",
    "plt.legend(['Train', 'Validation'], loc='upper left')\n",
    "plt.show()"
   ]
  },
  {
   "cell_type": "code",
   "execution_count": null,
   "metadata": {},
   "outputs": [],
   "source": []
  },
  {
   "cell_type": "code",
   "execution_count": 31,
   "metadata": {},
   "outputs": [
    {
     "name": "stdout",
     "output_type": "stream",
     "text": [
      "Found 236 images belonging to 2 classes.\n",
      "Found 26 images belonging to 2 classes.\n"
     ]
    },
    {
     "data": {
      "application/vnd.jupyter.widget-view+json": {
       "model_id": "635b4e2000fa42e3b70362449f80c041",
       "version_major": 2,
       "version_minor": 0
      },
      "text/plain": [
       "HBox(children=(IntProgress(value=0, description='Training', max=50, style=ProgressStyle(description_width='ini…"
      ]
     },
     "metadata": {},
     "output_type": "display_data"
    },
    {
     "name": "stdout",
     "output_type": "stream",
     "text": [
      "Epoch 1/50\n"
     ]
    },
    {
     "data": {
      "application/vnd.jupyter.widget-view+json": {
       "model_id": "54cf64f9d3e04e3baf030f44cb6582da",
       "version_major": 2,
       "version_minor": 0
      },
      "text/plain": [
       "HBox(children=(IntProgress(value=0, description='Epoch 0', max=7, style=ProgressStyle(description_width='initi…"
      ]
     },
     "metadata": {},
     "output_type": "display_data"
    },
    {
     "name": "stdout",
     "output_type": "stream",
     "text": [
      "7/7 [==============================] - 12s 2s/step - loss: 0.5644 - binary_accuracy: 0.7353 - mae: 0.3939 - val_loss: 0.5826 - val_binary_accuracy: 0.7308 - val_mae: 0.3959\n",
      "Epoch 2/50\n"
     ]
    },
    {
     "data": {
      "application/vnd.jupyter.widget-view+json": {
       "model_id": "89745064f2d84810af5625eb3c032a74",
       "version_major": 2,
       "version_minor": 0
      },
      "text/plain": [
       "HBox(children=(IntProgress(value=0, description='Epoch 1', max=7, style=ProgressStyle(description_width='initi…"
      ]
     },
     "metadata": {},
     "output_type": "display_data"
    },
    {
     "name": "stdout",
     "output_type": "stream",
     "text": [
      "7/7 [==============================] - 11s 2s/step - loss: 0.6029 - binary_accuracy: 0.7206 - mae: 0.4006 - val_loss: 0.5826 - val_binary_accuracy: 0.7308 - val_mae: 0.3960\n",
      "Epoch 3/50\n"
     ]
    },
    {
     "data": {
      "application/vnd.jupyter.widget-view+json": {
       "model_id": "363715942b2b4ee18712968147431641",
       "version_major": 2,
       "version_minor": 0
      },
      "text/plain": [
       "HBox(children=(IntProgress(value=0, description='Epoch 2', max=7, style=ProgressStyle(description_width='initi…"
      ]
     },
     "metadata": {},
     "output_type": "display_data"
    },
    {
     "name": "stdout",
     "output_type": "stream",
     "text": [
      "7/7 [==============================] - 13s 2s/step - loss: 0.5986 - binary_accuracy: 0.7143 - mae: 0.4034 - val_loss: 0.5826 - val_binary_accuracy: 0.7308 - val_mae: 0.3960\n",
      "Epoch 4/50\n"
     ]
    },
    {
     "data": {
      "application/vnd.jupyter.widget-view+json": {
       "model_id": "a5c607e487264cbe8561ed806843b3aa",
       "version_major": 2,
       "version_minor": 0
      },
      "text/plain": [
       "HBox(children=(IntProgress(value=0, description='Epoch 3', max=7, style=ProgressStyle(description_width='initi…"
      ]
     },
     "metadata": {},
     "output_type": "display_data"
    },
    {
     "name": "stdout",
     "output_type": "stream",
     "text": [
      "7/7 [==============================] - 10s 1s/step - loss: 0.5691 - binary_accuracy: 0.7283 - mae: 0.3971 - val_loss: 0.5826 - val_binary_accuracy: 0.7308 - val_mae: 0.3959\n",
      "Epoch 5/50\n"
     ]
    },
    {
     "data": {
      "application/vnd.jupyter.widget-view+json": {
       "model_id": "5a3d10b08429427eb8e76b25702cc49d",
       "version_major": 2,
       "version_minor": 0
      },
      "text/plain": [
       "HBox(children=(IntProgress(value=0, description='Epoch 4', max=7, style=ProgressStyle(description_width='initi…"
      ]
     },
     "metadata": {},
     "output_type": "display_data"
    },
    {
     "name": "stdout",
     "output_type": "stream",
     "text": [
      "7/7 [==============================] - 13s 2s/step - loss: 0.5378 - binary_accuracy: 0.7768 - mae: 0.3751 - val_loss: 0.5826 - val_binary_accuracy: 0.7308 - val_mae: 0.3958\n",
      "Epoch 6/50\n"
     ]
    },
    {
     "data": {
      "application/vnd.jupyter.widget-view+json": {
       "model_id": "3105ab8bef814da2bdf83300864c37bd",
       "version_major": 2,
       "version_minor": 0
      },
      "text/plain": [
       "HBox(children=(IntProgress(value=0, description='Epoch 5', max=7, style=ProgressStyle(description_width='initi…"
      ]
     },
     "metadata": {},
     "output_type": "display_data"
    },
    {
     "name": "stdout",
     "output_type": "stream",
     "text": [
      "7/7 [==============================] - 12s 2s/step - loss: 0.5776 - binary_accuracy: 0.7206 - mae: 0.4004 - val_loss: 0.5825 - val_binary_accuracy: 0.7308 - val_mae: 0.3957\n",
      "Epoch 7/50\n"
     ]
    },
    {
     "data": {
      "application/vnd.jupyter.widget-view+json": {
       "model_id": "964be36a20a242fdb5fc5b393b1b2451",
       "version_major": 2,
       "version_minor": 0
      },
      "text/plain": [
       "HBox(children=(IntProgress(value=0, description='Epoch 6', max=7, style=ProgressStyle(description_width='initi…"
      ]
     },
     "metadata": {},
     "output_type": "display_data"
    },
    {
     "name": "stdout",
     "output_type": "stream",
     "text": [
      "7/7 [==============================] - 11s 2s/step - loss: 0.5966 - binary_accuracy: 0.7206 - mae: 0.4003 - val_loss: 0.5825 - val_binary_accuracy: 0.7308 - val_mae: 0.3957\n",
      "Epoch 8/50\n"
     ]
    },
    {
     "data": {
      "application/vnd.jupyter.widget-view+json": {
       "model_id": "5522d86b4fc543acbfc98f0331675367",
       "version_major": 2,
       "version_minor": 0
      },
      "text/plain": [
       "HBox(children=(IntProgress(value=0, description='Epoch 7', max=7, style=ProgressStyle(description_width='initi…"
      ]
     },
     "metadata": {},
     "output_type": "display_data"
    },
    {
     "name": "stdout",
     "output_type": "stream",
     "text": [
      "7/7 [==============================] - 12s 2s/step - loss: 0.5682 - binary_accuracy: 0.7451 - mae: 0.3892 - val_loss: 0.5825 - val_binary_accuracy: 0.7308 - val_mae: 0.3956\n",
      "Epoch 9/50\n"
     ]
    },
    {
     "data": {
      "application/vnd.jupyter.widget-view+json": {
       "model_id": "63d7453e953341529c89ddbb83ee20d2",
       "version_major": 2,
       "version_minor": 0
      },
      "text/plain": [
       "HBox(children=(IntProgress(value=0, description='Epoch 8', max=7, style=ProgressStyle(description_width='initi…"
      ]
     },
     "metadata": {},
     "output_type": "display_data"
    },
    {
     "name": "stdout",
     "output_type": "stream",
     "text": [
      "7/7 [==============================] - 13s 2s/step - loss: 0.5725 - binary_accuracy: 0.7411 - mae: 0.3910 - val_loss: 0.5825 - val_binary_accuracy: 0.7308 - val_mae: 0.3956\n",
      "Epoch 10/50\n"
     ]
    },
    {
     "data": {
      "application/vnd.jupyter.widget-view+json": {
       "model_id": "8f99b39326ec4f04aaac469370dd81bb",
       "version_major": 2,
       "version_minor": 0
      },
      "text/plain": [
       "HBox(children=(IntProgress(value=0, description='Epoch 9', max=7, style=ProgressStyle(description_width='initi…"
      ]
     },
     "metadata": {},
     "output_type": "display_data"
    },
    {
     "name": "stdout",
     "output_type": "stream",
     "text": [
      "7/7 [==============================] - 10s 1s/step - loss: 0.6052 - binary_accuracy: 0.7228 - mae: 0.3992 - val_loss: 0.5825 - val_binary_accuracy: 0.7308 - val_mae: 0.3956\n",
      "Epoch 11/50\n"
     ]
    },
    {
     "data": {
      "application/vnd.jupyter.widget-view+json": {
       "model_id": "1b96af1a598e41a29c9e66ac79ec7757",
       "version_major": 2,
       "version_minor": 0
      },
      "text/plain": [
       "HBox(children=(IntProgress(value=0, description='Epoch 10', max=7, style=ProgressStyle(description_width='init…"
      ]
     },
     "metadata": {},
     "output_type": "display_data"
    },
    {
     "name": "stdout",
     "output_type": "stream",
     "text": [
      "7/7 [==============================] - 13s 2s/step - loss: 0.5507 - binary_accuracy: 0.7634 - mae: 0.3808 - val_loss: 0.5825 - val_binary_accuracy: 0.7308 - val_mae: 0.3955\n",
      "Epoch 12/50\n"
     ]
    },
    {
     "data": {
      "application/vnd.jupyter.widget-view+json": {
       "model_id": "811e715f3e3b4bec884f7d0f1e73c9f7",
       "version_major": 2,
       "version_minor": 0
      },
      "text/plain": [
       "HBox(children=(IntProgress(value=0, description='Epoch 11', max=7, style=ProgressStyle(description_width='init…"
      ]
     },
     "metadata": {},
     "output_type": "display_data"
    },
    {
     "name": "stdout",
     "output_type": "stream",
     "text": [
      "7/7 [==============================] - 11s 2s/step - loss: 0.6052 - binary_accuracy: 0.7228 - mae: 0.3992 - val_loss: 0.5825 - val_binary_accuracy: 0.7308 - val_mae: 0.3956\n",
      "Epoch 13/50\n"
     ]
    },
    {
     "data": {
      "application/vnd.jupyter.widget-view+json": {
       "model_id": "8710f580b87b4fa393011e9e3a31e0a5",
       "version_major": 2,
       "version_minor": 0
      },
      "text/plain": [
       "HBox(children=(IntProgress(value=0, description='Epoch 12', max=7, style=ProgressStyle(description_width='init…"
      ]
     },
     "metadata": {},
     "output_type": "display_data"
    },
    {
     "name": "stdout",
     "output_type": "stream",
     "text": [
      "7/7 [==============================] - 11s 2s/step - loss: 0.6010 - binary_accuracy: 0.7157 - mae: 0.4024 - val_loss: 0.5825 - val_binary_accuracy: 0.7308 - val_mae: 0.3956\n",
      "Epoch 14/50\n"
     ]
    },
    {
     "data": {
      "application/vnd.jupyter.widget-view+json": {
       "model_id": "7269b712a8554599934dd5e175ccb51d",
       "version_major": 2,
       "version_minor": 0
      },
      "text/plain": [
       "HBox(children=(IntProgress(value=0, description='Epoch 13', max=7, style=ProgressStyle(description_width='init…"
      ]
     },
     "metadata": {},
     "output_type": "display_data"
    },
    {
     "name": "stdout",
     "output_type": "stream",
     "text": [
      "7/7 [==============================] - 12s 2s/step - loss: 0.6162 - binary_accuracy: 0.7059 - mae: 0.4069 - val_loss: 0.5825 - val_binary_accuracy: 0.7308 - val_mae: 0.3957\n",
      "Epoch 15/50\n"
     ]
    },
    {
     "data": {
      "application/vnd.jupyter.widget-view+json": {
       "model_id": "f8d7f2d6fe4f4847b62002ce9ddfdd34",
       "version_major": 2,
       "version_minor": 0
      },
      "text/plain": [
       "HBox(children=(IntProgress(value=0, description='Epoch 14', max=7, style=ProgressStyle(description_width='init…"
      ]
     },
     "metadata": {},
     "output_type": "display_data"
    },
    {
     "name": "stdout",
     "output_type": "stream",
     "text": [
      "7/7 [==============================] - 13s 2s/step - loss: 0.5682 - binary_accuracy: 0.7455 - mae: 0.3890 - val_loss: 0.5825 - val_binary_accuracy: 0.7308 - val_mae: 0.3957\n",
      "Epoch 16/50\n"
     ]
    },
    {
     "data": {
      "application/vnd.jupyter.widget-view+json": {
       "model_id": "14f0ec9a778f4b82b8e20ca291132de9",
       "version_major": 2,
       "version_minor": 0
      },
      "text/plain": [
       "HBox(children=(IntProgress(value=0, description='Epoch 15', max=7, style=ProgressStyle(description_width='init…"
      ]
     },
     "metadata": {},
     "output_type": "display_data"
    },
    {
     "name": "stdout",
     "output_type": "stream",
     "text": [
      "7/7 [==============================] - 12s 2s/step - loss: 0.5663 - binary_accuracy: 0.7402 - mae: 0.3914 - val_loss: 0.5825 - val_binary_accuracy: 0.7308 - val_mae: 0.3956\n",
      "Epoch 17/50\n"
     ]
    },
    {
     "data": {
      "application/vnd.jupyter.widget-view+json": {
       "model_id": "1779876390c04158a58de0d77a1a26f8",
       "version_major": 2,
       "version_minor": 0
      },
      "text/plain": [
       "HBox(children=(IntProgress(value=0, description='Epoch 16', max=7, style=ProgressStyle(description_width='init…"
      ]
     },
     "metadata": {},
     "output_type": "display_data"
    },
    {
     "name": "stdout",
     "output_type": "stream",
     "text": [
      "7/7 [==============================] - 12s 2s/step - loss: 0.5746 - binary_accuracy: 0.7451 - mae: 0.3891 - val_loss: 0.5825 - val_binary_accuracy: 0.7308 - val_mae: 0.3956\n",
      "Epoch 18/50\n"
     ]
    },
    {
     "data": {
      "application/vnd.jupyter.widget-view+json": {
       "model_id": "3b6bedce204b4f3bb9488345521566a0",
       "version_major": 2,
       "version_minor": 0
      },
      "text/plain": [
       "HBox(children=(IntProgress(value=0, description='Epoch 17', max=7, style=ProgressStyle(description_width='init…"
      ]
     },
     "metadata": {},
     "output_type": "display_data"
    },
    {
     "name": "stdout",
     "output_type": "stream",
     "text": [
      "7/7 [==============================] - 12s 2s/step - loss: 0.5966 - binary_accuracy: 0.7206 - mae: 0.4002 - val_loss: 0.5825 - val_binary_accuracy: 0.7308 - val_mae: 0.3956\n",
      "Epoch 19/50\n"
     ]
    },
    {
     "data": {
      "application/vnd.jupyter.widget-view+json": {
       "model_id": "a955cca84f37446aaf9f96af91a39225",
       "version_major": 2,
       "version_minor": 0
      },
      "text/plain": [
       "HBox(children=(IntProgress(value=0, description='Epoch 18', max=7, style=ProgressStyle(description_width='init…"
      ]
     },
     "metadata": {},
     "output_type": "display_data"
    },
    {
     "name": "stdout",
     "output_type": "stream",
     "text": [
      "7/7 [==============================] - 12s 2s/step - loss: 0.5839 - binary_accuracy: 0.7206 - mae: 0.4002 - val_loss: 0.5825 - val_binary_accuracy: 0.7308 - val_mae: 0.3955\n",
      "Epoch 20/50\n"
     ]
    },
    {
     "data": {
      "application/vnd.jupyter.widget-view+json": {
       "model_id": "e00e9863ae024e6396d854b9d6499dd3",
       "version_major": 2,
       "version_minor": 0
      },
      "text/plain": [
       "HBox(children=(IntProgress(value=0, description='Epoch 19', max=7, style=ProgressStyle(description_width='init…"
      ]
     },
     "metadata": {},
     "output_type": "display_data"
    },
    {
     "name": "stdout",
     "output_type": "stream",
     "text": [
      "7/7 [==============================] - 13s 2s/step - loss: 0.5899 - binary_accuracy: 0.7232 - mae: 0.3989 - val_loss: 0.5825 - val_binary_accuracy: 0.7308 - val_mae: 0.3955\n",
      "Epoch 21/50\n"
     ]
    },
    {
     "data": {
      "application/vnd.jupyter.widget-view+json": {
       "model_id": "4874c9b87e2e4f42bede65323b465514",
       "version_major": 2,
       "version_minor": 0
      },
      "text/plain": [
       "HBox(children=(IntProgress(value=0, description='Epoch 20', max=7, style=ProgressStyle(description_width='init…"
      ]
     },
     "metadata": {},
     "output_type": "display_data"
    },
    {
     "name": "stdout",
     "output_type": "stream",
     "text": [
      "7/7 [==============================] - 12s 2s/step - loss: 0.5309 - binary_accuracy: 0.7794 - mae: 0.3734 - val_loss: 0.5825 - val_binary_accuracy: 0.7308 - val_mae: 0.3954\n",
      "Epoch 22/50\n"
     ]
    },
    {
     "data": {
      "application/vnd.jupyter.widget-view+json": {
       "model_id": "ed0f0db00a554089b18bc9c399c0411c",
       "version_major": 2,
       "version_minor": 0
      },
      "text/plain": [
       "HBox(children=(IntProgress(value=0, description='Epoch 21', max=7, style=ProgressStyle(description_width='init…"
      ]
     },
     "metadata": {},
     "output_type": "display_data"
    },
    {
     "name": "stdout",
     "output_type": "stream",
     "text": [
      "7/7 [==============================] - 11s 2s/step - loss: 0.5991 - binary_accuracy: 0.7108 - mae: 0.4045 - val_loss: 0.5825 - val_binary_accuracy: 0.7308 - val_mae: 0.3954\n",
      "Epoch 23/50\n"
     ]
    },
    {
     "data": {
      "application/vnd.jupyter.widget-view+json": {
       "model_id": "96b35a2b112c4321920be44e4a490a37",
       "version_major": 2,
       "version_minor": 0
      },
      "text/plain": [
       "HBox(children=(IntProgress(value=0, description='Epoch 22', max=7, style=ProgressStyle(description_width='init…"
      ]
     },
     "metadata": {},
     "output_type": "display_data"
    },
    {
     "name": "stdout",
     "output_type": "stream",
     "text": [
      "7/7 [==============================] - 12s 2s/step - loss: 0.5834 - binary_accuracy: 0.7353 - mae: 0.3934 - val_loss: 0.5825 - val_binary_accuracy: 0.7308 - val_mae: 0.3954\n",
      "Epoch 24/50\n"
     ]
    },
    {
     "data": {
      "application/vnd.jupyter.widget-view+json": {
       "model_id": "bb0cc43d1ae145d6967ebdfad80c1cc2",
       "version_major": 2,
       "version_minor": 0
      },
      "text/plain": [
       "HBox(children=(IntProgress(value=0, description='Epoch 23', max=7, style=ProgressStyle(description_width='init…"
      ]
     },
     "metadata": {},
     "output_type": "display_data"
    },
    {
     "name": "stdout",
     "output_type": "stream",
     "text": [
      "7/7 [==============================] - 12s 2s/step - loss: 0.5941 - binary_accuracy: 0.7304 - mae: 0.3955 - val_loss: 0.5825 - val_binary_accuracy: 0.7308 - val_mae: 0.3954\n",
      "Epoch 25/50\n"
     ]
    },
    {
     "data": {
      "application/vnd.jupyter.widget-view+json": {
       "model_id": "639d9b2745d6457087c75e680bf81ff7",
       "version_major": 2,
       "version_minor": 0
      },
      "text/plain": [
       "HBox(children=(IntProgress(value=0, description='Epoch 24', max=7, style=ProgressStyle(description_width='init…"
      ]
     },
     "metadata": {},
     "output_type": "display_data"
    },
    {
     "name": "stdout",
     "output_type": "stream",
     "text": [
      "7/7 [==============================] - 12s 2s/step - loss: 0.5745 - binary_accuracy: 0.7451 - mae: 0.3889 - val_loss: 0.5825 - val_binary_accuracy: 0.7308 - val_mae: 0.3954\n",
      "Epoch 26/50\n"
     ]
    },
    {
     "data": {
      "application/vnd.jupyter.widget-view+json": {
       "model_id": "6fc642c39c9a4d5f8129b60c7109f80b",
       "version_major": 2,
       "version_minor": 0
      },
      "text/plain": [
       "HBox(children=(IntProgress(value=0, description='Epoch 25', max=7, style=ProgressStyle(description_width='init…"
      ]
     },
     "metadata": {},
     "output_type": "display_data"
    },
    {
     "name": "stdout",
     "output_type": "stream",
     "text": [
      "7/7 [==============================] - 11s 2s/step - loss: 0.6251 - binary_accuracy: 0.6961 - mae: 0.4111 - val_loss: 0.5825 - val_binary_accuracy: 0.7308 - val_mae: 0.3955\n",
      "Epoch 27/50\n"
     ]
    },
    {
     "data": {
      "application/vnd.jupyter.widget-view+json": {
       "model_id": "5bed02a751a64678999065493f4c128a",
       "version_major": 2,
       "version_minor": 0
      },
      "text/plain": [
       "HBox(children=(IntProgress(value=0, description='Epoch 26', max=7, style=ProgressStyle(description_width='init…"
      ]
     },
     "metadata": {},
     "output_type": "display_data"
    },
    {
     "name": "stdout",
     "output_type": "stream",
     "text": [
      "7/7 [==============================] - 13s 2s/step - loss: 0.5638 - binary_accuracy: 0.7500 - mae: 0.3867 - val_loss: 0.5825 - val_binary_accuracy: 0.7308 - val_mae: 0.3954\n",
      "Epoch 28/50\n"
     ]
    },
    {
     "data": {
      "application/vnd.jupyter.widget-view+json": {
       "model_id": "8adad921350b49a38f6d2b6ed6b28e33",
       "version_major": 2,
       "version_minor": 0
      },
      "text/plain": [
       "HBox(children=(IntProgress(value=0, description='Epoch 27', max=7, style=ProgressStyle(description_width='init…"
      ]
     },
     "metadata": {},
     "output_type": "display_data"
    },
    {
     "name": "stdout",
     "output_type": "stream",
     "text": [
      "7/7 [==============================] - 11s 2s/step - loss: 0.5746 - binary_accuracy: 0.7446 - mae: 0.3892 - val_loss: 0.5825 - val_binary_accuracy: 0.7308 - val_mae: 0.3954\n",
      "Epoch 29/50\n"
     ]
    },
    {
     "data": {
      "application/vnd.jupyter.widget-view+json": {
       "model_id": "b3e9ab606d12452386e476407943f858",
       "version_major": 2,
       "version_minor": 0
      },
      "text/plain": [
       "HBox(children=(IntProgress(value=0, description='Epoch 28', max=7, style=ProgressStyle(description_width='init…"
      ]
     },
     "metadata": {},
     "output_type": "display_data"
    },
    {
     "name": "stdout",
     "output_type": "stream",
     "text": [
      "7/7 [==============================] - 12s 2s/step - loss: 0.5768 - binary_accuracy: 0.7366 - mae: 0.3927 - val_loss: 0.5825 - val_binary_accuracy: 0.7308 - val_mae: 0.3954\n",
      "Epoch 30/50\n"
     ]
    },
    {
     "data": {
      "application/vnd.jupyter.widget-view+json": {
       "model_id": "08b7e892eaad4e469d58d5d88103b6ba",
       "version_major": 2,
       "version_minor": 0
      },
      "text/plain": [
       "HBox(children=(IntProgress(value=0, description='Epoch 29', max=7, style=ProgressStyle(description_width='init…"
      ]
     },
     "metadata": {},
     "output_type": "display_data"
    },
    {
     "name": "stdout",
     "output_type": "stream",
     "text": [
      "7/7 [==============================] - 12s 2s/step - loss: 0.6094 - binary_accuracy: 0.7206 - mae: 0.4000 - val_loss: 0.5825 - val_binary_accuracy: 0.7308 - val_mae: 0.3954\n",
      "Epoch 31/50\n"
     ]
    },
    {
     "data": {
      "application/vnd.jupyter.widget-view+json": {
       "model_id": "f65e69d3c40e430390185a6719704ddb",
       "version_major": 2,
       "version_minor": 0
      },
      "text/plain": [
       "HBox(children=(IntProgress(value=0, description='Epoch 30', max=7, style=ProgressStyle(description_width='init…"
      ]
     },
     "metadata": {},
     "output_type": "display_data"
    },
    {
     "name": "stdout",
     "output_type": "stream",
     "text": [
      "7/7 [==============================] - 12s 2s/step - loss: 0.5858 - binary_accuracy: 0.7255 - mae: 0.3978 - val_loss: 0.5825 - val_binary_accuracy: 0.7308 - val_mae: 0.3954\n",
      "Epoch 32/50\n"
     ]
    },
    {
     "data": {
      "application/vnd.jupyter.widget-view+json": {
       "model_id": "0c54329348af4129afcf04e7d0c33f47",
       "version_major": 2,
       "version_minor": 0
      },
      "text/plain": [
       "HBox(children=(IntProgress(value=0, description='Epoch 31', max=7, style=ProgressStyle(description_width='init…"
      ]
     },
     "metadata": {},
     "output_type": "display_data"
    },
    {
     "name": "stdout",
     "output_type": "stream",
     "text": [
      "7/7 [==============================] - 12s 2s/step - loss: 0.5682 - binary_accuracy: 0.7451 - mae: 0.3889 - val_loss: 0.5825 - val_binary_accuracy: 0.7308 - val_mae: 0.3954\n",
      "Epoch 33/50\n"
     ]
    },
    {
     "data": {
      "application/vnd.jupyter.widget-view+json": {
       "model_id": "5613384c789b48f09451a350a525c9eb",
       "version_major": 2,
       "version_minor": 0
      },
      "text/plain": [
       "HBox(children=(IntProgress(value=0, description='Epoch 32', max=7, style=ProgressStyle(description_width='init…"
      ]
     },
     "metadata": {},
     "output_type": "display_data"
    },
    {
     "name": "stdout",
     "output_type": "stream",
     "text": [
      "7/7 [==============================] - 13s 2s/step - loss: 0.5768 - binary_accuracy: 0.7366 - mae: 0.3927 - val_loss: 0.5825 - val_binary_accuracy: 0.7308 - val_mae: 0.3953\n",
      "Epoch 34/50\n"
     ]
    },
    {
     "data": {
      "application/vnd.jupyter.widget-view+json": {
       "model_id": "6b0cae736f5d431aa1cd0acdc79e4661",
       "version_major": 2,
       "version_minor": 0
      },
      "text/plain": [
       "HBox(children=(IntProgress(value=0, description='Epoch 33', max=7, style=ProgressStyle(description_width='init…"
      ]
     },
     "metadata": {},
     "output_type": "display_data"
    },
    {
     "name": "stdout",
     "output_type": "stream",
     "text": [
      "7/7 [==============================] - 10s 1s/step - loss: 0.5880 - binary_accuracy: 0.7283 - mae: 0.3965 - val_loss: 0.5825 - val_binary_accuracy: 0.7308 - val_mae: 0.3953\n",
      "Epoch 35/50\n"
     ]
    },
    {
     "data": {
      "application/vnd.jupyter.widget-view+json": {
       "model_id": "11f6739fcdc3460ab5041ee6700f602a",
       "version_major": 2,
       "version_minor": 0
      },
      "text/plain": [
       "HBox(children=(IntProgress(value=0, description='Epoch 34', max=7, style=ProgressStyle(description_width='init…"
      ]
     },
     "metadata": {},
     "output_type": "display_data"
    },
    {
     "name": "stdout",
     "output_type": "stream",
     "text": [
      "7/7 [==============================] - 13s 2s/step - loss: 0.5725 - binary_accuracy: 0.7411 - mae: 0.3906 - val_loss: 0.5825 - val_binary_accuracy: 0.7308 - val_mae: 0.3953\n",
      "Epoch 36/50\n"
     ]
    },
    {
     "data": {
      "application/vnd.jupyter.widget-view+json": {
       "model_id": "472fb09f8490448996cbdf5e59144997",
       "version_major": 2,
       "version_minor": 0
      },
      "text/plain": [
       "HBox(children=(IntProgress(value=0, description='Epoch 35', max=7, style=ProgressStyle(description_width='init…"
      ]
     },
     "metadata": {},
     "output_type": "display_data"
    },
    {
     "name": "stdout",
     "output_type": "stream",
     "text": [
      "7/7 [==============================] - 13s 2s/step - loss: 0.5902 - binary_accuracy: 0.7206 - mae: 0.3999 - val_loss: 0.5825 - val_binary_accuracy: 0.7308 - val_mae: 0.3953\n",
      "Epoch 37/50\n"
     ]
    },
    {
     "data": {
      "application/vnd.jupyter.widget-view+json": {
       "model_id": "6def000a5cd1464d88382ac3fb0c82ac",
       "version_major": 2,
       "version_minor": 0
      },
      "text/plain": [
       "HBox(children=(IntProgress(value=0, description='Epoch 36', max=7, style=ProgressStyle(description_width='init…"
      ]
     },
     "metadata": {},
     "output_type": "display_data"
    },
    {
     "name": "stdout",
     "output_type": "stream",
     "text": [
      "7/7 [==============================] - 10s 1s/step - loss: 0.5862 - binary_accuracy: 0.7228 - mae: 0.3989 - val_loss: 0.5825 - val_binary_accuracy: 0.7308 - val_mae: 0.3953\n",
      "Epoch 38/50\n"
     ]
    },
    {
     "data": {
      "application/vnd.jupyter.widget-view+json": {
       "model_id": "0dcbc09a5c024eb0b73cb0a081eba78f",
       "version_major": 2,
       "version_minor": 0
      },
      "text/plain": [
       "HBox(children=(IntProgress(value=0, description='Epoch 37', max=7, style=ProgressStyle(description_width='init…"
      ]
     },
     "metadata": {},
     "output_type": "display_data"
    },
    {
     "name": "stdout",
     "output_type": "stream",
     "text": [
      "7/7 [==============================] - 12s 2s/step - loss: 0.5943 - binary_accuracy: 0.7188 - mae: 0.4007 - val_loss: 0.5825 - val_binary_accuracy: 0.7308 - val_mae: 0.3953\n",
      "Epoch 39/50\n"
     ]
    },
    {
     "data": {
      "application/vnd.jupyter.widget-view+json": {
       "model_id": "d665c774f33e4091a75ba3f6bcebbacb",
       "version_major": 2,
       "version_minor": 0
      },
      "text/plain": [
       "HBox(children=(IntProgress(value=0, description='Epoch 38', max=7, style=ProgressStyle(description_width='init…"
      ]
     },
     "metadata": {},
     "output_type": "display_data"
    },
    {
     "name": "stdout",
     "output_type": "stream",
     "text": [
      "7/7 [==============================] - 12s 2s/step - loss: 0.5593 - binary_accuracy: 0.7549 - mae: 0.3843 - val_loss: 0.5825 - val_binary_accuracy: 0.7308 - val_mae: 0.3952\n",
      "Epoch 40/50\n"
     ]
    },
    {
     "data": {
      "application/vnd.jupyter.widget-view+json": {
       "model_id": "359161da87cc4143bf73bc2a02210303",
       "version_major": 2,
       "version_minor": 0
      },
      "text/plain": [
       "HBox(children=(IntProgress(value=0, description='Epoch 39', max=7, style=ProgressStyle(description_width='init…"
      ]
     },
     "metadata": {},
     "output_type": "display_data"
    },
    {
     "name": "stdout",
     "output_type": "stream",
     "text": [
      "7/7 [==============================] - 12s 2s/step - loss: 0.5853 - binary_accuracy: 0.7402 - mae: 0.3909 - val_loss: 0.5825 - val_binary_accuracy: 0.7308 - val_mae: 0.3952\n",
      "Epoch 41/50\n"
     ]
    },
    {
     "data": {
      "application/vnd.jupyter.widget-view+json": {
       "model_id": "1bbbc2b43e2a48a8a745079b50bcb2c7",
       "version_major": 2,
       "version_minor": 0
      },
      "text/plain": [
       "HBox(children=(IntProgress(value=0, description='Epoch 40', max=7, style=ProgressStyle(description_width='init…"
      ]
     },
     "metadata": {},
     "output_type": "display_data"
    },
    {
     "name": "stdout",
     "output_type": "stream",
     "text": [
      "7/7 [==============================] - 12s 2s/step - loss: 0.5986 - binary_accuracy: 0.7255 - mae: 0.3976 - val_loss: 0.5825 - val_binary_accuracy: 0.7308 - val_mae: 0.3952\n",
      "Epoch 42/50\n"
     ]
    },
    {
     "data": {
      "application/vnd.jupyter.widget-view+json": {
       "model_id": "349735bdf5ab45659af6e1ece9b33906",
       "version_major": 2,
       "version_minor": 0
      },
      "text/plain": [
       "HBox(children=(IntProgress(value=0, description='Epoch 41', max=7, style=ProgressStyle(description_width='init…"
      ]
     },
     "metadata": {},
     "output_type": "display_data"
    },
    {
     "name": "stdout",
     "output_type": "stream",
     "text": [
      "7/7 [==============================] - 12s 2s/step - loss: 0.5637 - binary_accuracy: 0.7500 - mae: 0.3865 - val_loss: 0.5825 - val_binary_accuracy: 0.7308 - val_mae: 0.3952\n",
      "Epoch 43/50\n"
     ]
    },
    {
     "data": {
      "application/vnd.jupyter.widget-view+json": {
       "model_id": "bcb6329062424ea296ef2927b7360a3c",
       "version_major": 2,
       "version_minor": 0
      },
      "text/plain": [
       "HBox(children=(IntProgress(value=0, description='Epoch 42', max=7, style=ProgressStyle(description_width='init…"
      ]
     },
     "metadata": {},
     "output_type": "display_data"
    },
    {
     "name": "stdout",
     "output_type": "stream",
     "text": [
      "7/7 [==============================] - 12s 2s/step - loss: 0.5662 - binary_accuracy: 0.7402 - mae: 0.3909 - val_loss: 0.5825 - val_binary_accuracy: 0.7308 - val_mae: 0.3952\n",
      "Epoch 44/50\n"
     ]
    },
    {
     "data": {
      "application/vnd.jupyter.widget-view+json": {
       "model_id": "fbbb440ec7274364b1ff095b14db2597",
       "version_major": 2,
       "version_minor": 0
      },
      "text/plain": [
       "HBox(children=(IntProgress(value=0, description='Epoch 43', max=7, style=ProgressStyle(description_width='init…"
      ]
     },
     "metadata": {},
     "output_type": "display_data"
    },
    {
     "name": "stdout",
     "output_type": "stream",
     "text": [
      "7/7 [==============================] - 13s 2s/step - loss: 0.5900 - binary_accuracy: 0.7232 - mae: 0.3986 - val_loss: 0.5825 - val_binary_accuracy: 0.7308 - val_mae: 0.3951\n",
      "Epoch 45/50\n"
     ]
    },
    {
     "data": {
      "application/vnd.jupyter.widget-view+json": {
       "model_id": "ae117feeece54431a624f3e9fb682342",
       "version_major": 2,
       "version_minor": 0
      },
      "text/plain": [
       "HBox(children=(IntProgress(value=0, description='Epoch 44', max=7, style=ProgressStyle(description_width='init…"
      ]
     },
     "metadata": {},
     "output_type": "display_data"
    },
    {
     "name": "stdout",
     "output_type": "stream",
     "text": [
      "7/7 [==============================] - 12s 2s/step - loss: 0.6055 - binary_accuracy: 0.7108 - mae: 0.4042 - val_loss: 0.5825 - val_binary_accuracy: 0.7308 - val_mae: 0.3952\n",
      "Epoch 46/50\n"
     ]
    },
    {
     "data": {
      "application/vnd.jupyter.widget-view+json": {
       "model_id": "618b98faf0254e458f686a3fa9122e8d",
       "version_major": 2,
       "version_minor": 0
      },
      "text/plain": [
       "HBox(children=(IntProgress(value=0, description='Epoch 45', max=7, style=ProgressStyle(description_width='init…"
      ]
     },
     "metadata": {},
     "output_type": "display_data"
    },
    {
     "name": "stdout",
     "output_type": "stream",
     "text": [
      "7/7 [==============================] - 11s 2s/step - loss: 0.5918 - binary_accuracy: 0.7391 - mae: 0.3914 - val_loss: 0.5825 - val_binary_accuracy: 0.7308 - val_mae: 0.3952\n",
      "Epoch 47/50\n"
     ]
    },
    {
     "data": {
      "application/vnd.jupyter.widget-view+json": {
       "model_id": "1a302898c00d4dadb6be738d06c544f9",
       "version_major": 2,
       "version_minor": 0
      },
      "text/plain": [
       "HBox(children=(IntProgress(value=0, description='Epoch 46', max=7, style=ProgressStyle(description_width='init…"
      ]
     },
     "metadata": {},
     "output_type": "display_data"
    },
    {
     "name": "stdout",
     "output_type": "stream",
     "text": [
      "7/7 [==============================] - 13s 2s/step - loss: 0.5856 - binary_accuracy: 0.7277 - mae: 0.3966 - val_loss: 0.5825 - val_binary_accuracy: 0.7308 - val_mae: 0.3952\n",
      "Epoch 48/50\n"
     ]
    },
    {
     "data": {
      "application/vnd.jupyter.widget-view+json": {
       "model_id": "65f11b5f34314a1a98384709ab52da46",
       "version_major": 2,
       "version_minor": 0
      },
      "text/plain": [
       "HBox(children=(IntProgress(value=0, description='Epoch 47', max=7, style=ProgressStyle(description_width='init…"
      ]
     },
     "metadata": {},
     "output_type": "display_data"
    },
    {
     "name": "stdout",
     "output_type": "stream",
     "text": [
      "7/7 [==============================] - 12s 2s/step - loss: 0.5637 - binary_accuracy: 0.7500 - mae: 0.3865 - val_loss: 0.5825 - val_binary_accuracy: 0.7308 - val_mae: 0.3952\n",
      "Epoch 49/50\n"
     ]
    },
    {
     "data": {
      "application/vnd.jupyter.widget-view+json": {
       "model_id": "586c42dc6982463da0eb45d16a943ccd",
       "version_major": 2,
       "version_minor": 0
      },
      "text/plain": [
       "HBox(children=(IntProgress(value=0, description='Epoch 48', max=7, style=ProgressStyle(description_width='init…"
      ]
     },
     "metadata": {},
     "output_type": "display_data"
    },
    {
     "name": "stdout",
     "output_type": "stream",
     "text": [
      "7/7 [==============================] - 12s 2s/step - loss: 0.5667 - binary_accuracy: 0.7255 - mae: 0.3975 - val_loss: 0.5825 - val_binary_accuracy: 0.7308 - val_mae: 0.3951\n",
      "Epoch 50/50\n"
     ]
    },
    {
     "data": {
      "application/vnd.jupyter.widget-view+json": {
       "model_id": "d956a39d38ac40d28531e47911dff05f",
       "version_major": 2,
       "version_minor": 0
      },
      "text/plain": [
       "HBox(children=(IntProgress(value=0, description='Epoch 49', max=7, style=ProgressStyle(description_width='init…"
      ]
     },
     "metadata": {},
     "output_type": "display_data"
    },
    {
     "name": "stdout",
     "output_type": "stream",
     "text": [
      "7/7 [==============================] - 13s 2s/step - loss: 0.5592 - binary_accuracy: 0.7549 - mae: 0.3841 - val_loss: 0.5825 - val_binary_accuracy: 0.7308 - val_mae: 0.3950\n",
      "\n"
     ]
    }
   ],
   "source": [
    "#is datagen reusable?\n",
    "datagen = ImageDataGenerator(\n",
    "    preprocessing_function=mnet.preprocess_input, shear_range=0.5, zoom_range=0.5,\n",
    "    horizontal_flip=True, validation_split=0.1)\n",
    "training = datagen.flow_from_directory( xrays_seg, target_size=(128, 128),                                    \n",
    "    color_mode = 'grayscale', save_to_dir='./training_aug', subset='training', shuffle=True)\n",
    "validation = datagen.flow_from_directory( xrays_seg, target_size=(128, 128),\n",
    "    color_mode = 'grayscale', save_to_dir='./validation_aug', subset='validation', shuffle=True) \n",
    "\n",
    "batch_size = 32\n",
    "history = model.fit_generator(\n",
    "    generator=training,\n",
    "    steps_per_epoch=training.samples // batch_size,\n",
    "    epochs=50,\n",
    "    callbacks=[TQDMNotebookCallback(leave_inner=True, leave_outer=True)],\n",
    "    validation_data=validation,\n",
    "    validation_steps=validation.samples // batch_size\n",
    ")"
   ]
  },
  {
   "cell_type": "code",
   "execution_count": 32,
   "metadata": {},
   "outputs": [
    {
     "data": {
      "image/png": "[encoded data removed]",
      "text/plain": [
       "<Figure size 432x288 with 1 Axes>"
      ]
     },
     "metadata": {
      "needs_background": "light"
     },
     "output_type": "display_data"
    }
   ],
   "source": [
    "import matplotlib.pyplot as plt\n",
    "plt.plot(history.history['loss'])\n",
    "plt.plot(history.history['val_loss'])\n",
    "plt.title('Model loss')\n",
    "plt.ylabel('Loss')\n",
    "plt.xlabel('Epoch')\n",
    "plt.legend(['Train', 'Validation'], loc='upper left')\n",
    "plt.show()"
   ]
  },
  {
   "cell_type": "markdown",
   "metadata": {},
   "source": [
    "## Even with shuffling of data, no luck!"
   ]
  },
  {
   "cell_type": "markdown",
   "metadata": {},
   "source": [
    "## This now does seem more likely to be data problem."
   ]
  },
  {
   "cell_type": "code",
   "execution_count": null,
   "metadata": {},
   "outputs": [],
   "source": []
  }
 ],
 "metadata": {
  "kernelspec": {
   "display_name": "Python 3",
   "language": "python",
   "name": "python3"
  },
  "language_info": {
   "codemirror_mode": {
    "name": "ipython",
    "version": 3
   },
   "file_extension": ".py",
   "mimetype": "text/x-python",
   "name": "python",
   "nbconvert_exporter": "python",
   "pygments_lexer": "ipython3",
   "version": "3.7.3"
  }
 },
 "nbformat": 4,
 "nbformat_minor": 2
}
