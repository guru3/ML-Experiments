{
 "cells": [
  {
   "cell_type": "markdown",
   "metadata": {},
   "source": [
    "### We want to check how corona cases and deaths relate to the different parameters of state \n",
    "#### State population and rural/urban percentage of state data is downloaded from http://statisticstimes.com/demographics/population-of-indian-states.php\n",
    "#### Rest of the data is downloaded from data.gov.in"
   ]
  },
  {
   "cell_type": "code",
   "execution_count": 1,
   "metadata": {},
   "outputs": [],
   "source": [
    "import pandas as pd\n",
    "import matplotlib.pyplot as plt"
   ]
  },
  {
   "cell_type": "code",
   "execution_count": 2,
   "metadata": {},
   "outputs": [],
   "source": [
    "date_of_data = '21April2020'"
   ]
  },
  {
   "cell_type": "code",
   "execution_count": 3,
   "metadata": {},
   "outputs": [],
   "source": [
    "folder = './' + date_of_data;"
   ]
  },
  {
   "cell_type": "code",
   "execution_count": 4,
   "metadata": {},
   "outputs": [],
   "source": [
    "def getCoronaData( folder ):\n",
    "    corona_cases = folder + '/corona.csv'\n",
    "    corona_data = pd.read_csv(corona_cases)\n",
    "    corona_data.rename(columns = {'Total Confirmed cases':'total_cases', \n",
    "                                 'Name of State / UT':'state',\n",
    "                                 'Cured/Discharged/Migrated':'cured',\n",
    "                                 'Death':'death'}, inplace = True) \n",
    "    corona_data['cure %'] = corona_data['cured']/(corona_data['cured'] + corona_data['death'])\n",
    "    return corona_data[{'state','total_cases','cured','death','cure %'}].set_index('state')"
   ]
  },
  {
   "cell_type": "code",
   "execution_count": 5,
   "metadata": {},
   "outputs": [
    {
     "data": {
      "text/html": [
       "<div>\n",
       "<style scoped>\n",
       "    .dataframe tbody tr th:only-of-type {\n",
       "        vertical-align: middle;\n",
       "    }\n",
       "\n",
       "    .dataframe tbody tr th {\n",
       "        vertical-align: top;\n",
       "    }\n",
       "\n",
       "    .dataframe thead th {\n",
       "        text-align: right;\n",
       "    }\n",
       "</style>\n",
       "<table border=\"1\" class=\"dataframe\">\n",
       "  <thead>\n",
       "    <tr style=\"text-align: right;\">\n",
       "      <th></th>\n",
       "      <th>death</th>\n",
       "      <th>total_cases</th>\n",
       "      <th>cured</th>\n",
       "      <th>cure %</th>\n",
       "    </tr>\n",
       "    <tr>\n",
       "      <th>state</th>\n",
       "      <th></th>\n",
       "      <th></th>\n",
       "      <th></th>\n",
       "      <th></th>\n",
       "    </tr>\n",
       "  </thead>\n",
       "  <tbody>\n",
       "    <tr>\n",
       "      <th>Andaman and Nicobar Islands</th>\n",
       "      <td>0</td>\n",
       "      <td>16</td>\n",
       "      <td>11</td>\n",
       "      <td>1.000000</td>\n",
       "    </tr>\n",
       "    <tr>\n",
       "      <th>Andhra Pradesh</th>\n",
       "      <td>20</td>\n",
       "      <td>722</td>\n",
       "      <td>92</td>\n",
       "      <td>0.821429</td>\n",
       "    </tr>\n",
       "    <tr>\n",
       "      <th>Arunachal Pradesh</th>\n",
       "      <td>0</td>\n",
       "      <td>1</td>\n",
       "      <td>0</td>\n",
       "      <td>NaN</td>\n",
       "    </tr>\n",
       "    <tr>\n",
       "      <th>Assam</th>\n",
       "      <td>1</td>\n",
       "      <td>35</td>\n",
       "      <td>19</td>\n",
       "      <td>0.950000</td>\n",
       "    </tr>\n",
       "    <tr>\n",
       "      <th>Bihar</th>\n",
       "      <td>2</td>\n",
       "      <td>113</td>\n",
       "      <td>42</td>\n",
       "      <td>0.954545</td>\n",
       "    </tr>\n",
       "  </tbody>\n",
       "</table>\n",
       "</div>"
      ],
      "text/plain": [
       "                             death  total_cases  cured    cure %\n",
       "state                                                           \n",
       "Andaman and Nicobar Islands      0           16     11  1.000000\n",
       "Andhra Pradesh                  20          722     92  0.821429\n",
       "Arunachal Pradesh                0            1      0       NaN\n",
       "Assam                            1           35     19  0.950000\n",
       "Bihar                            2          113     42  0.954545"
      ]
     },
     "execution_count": 5,
     "metadata": {},
     "output_type": "execute_result"
    }
   ],
   "source": [
    "getCoronaData(folder).head()"
   ]
  },
  {
   "cell_type": "code",
   "execution_count": 8,
   "metadata": {},
   "outputs": [],
   "source": [
    "def getStatePopulation( folder ):\n",
    "    state_population = folder + '/state_population.csv'\n",
    "    state_population = pd.read_csv(state_population)\n",
    "    return state_population.set_index('state')"
   ]
  },
  {
   "cell_type": "code",
   "execution_count": 9,
   "metadata": {},
   "outputs": [
    {
     "data": {
      "text/html": [
       "<div>\n",
       "<style scoped>\n",
       "    .dataframe tbody tr th:only-of-type {\n",
       "        vertical-align: middle;\n",
       "    }\n",
       "\n",
       "    .dataframe tbody tr th {\n",
       "        vertical-align: top;\n",
       "    }\n",
       "\n",
       "    .dataframe thead th {\n",
       "        text-align: right;\n",
       "    }\n",
       "</style>\n",
       "<table border=\"1\" class=\"dataframe\">\n",
       "  <thead>\n",
       "    <tr style=\"text-align: right;\">\n",
       "      <th></th>\n",
       "      <th>population2018</th>\n",
       "      <th>populationshare%</th>\n",
       "    </tr>\n",
       "    <tr>\n",
       "      <th>state</th>\n",
       "      <th></th>\n",
       "      <th></th>\n",
       "    </tr>\n",
       "  </thead>\n",
       "  <tbody>\n",
       "    <tr>\n",
       "      <th>Uttar Pradesh</th>\n",
       "      <td>228959599</td>\n",
       "      <td>17.15</td>\n",
       "    </tr>\n",
       "    <tr>\n",
       "      <th>Maharashtra</th>\n",
       "      <td>120837347</td>\n",
       "      <td>9.05</td>\n",
       "    </tr>\n",
       "    <tr>\n",
       "      <th>Bihar</th>\n",
       "      <td>119461013</td>\n",
       "      <td>8.95</td>\n",
       "    </tr>\n",
       "    <tr>\n",
       "      <th>West Bengal</th>\n",
       "      <td>97694960</td>\n",
       "      <td>7.32</td>\n",
       "    </tr>\n",
       "    <tr>\n",
       "      <th>Madhya Pradesh</th>\n",
       "      <td>82342793</td>\n",
       "      <td>6.17</td>\n",
       "    </tr>\n",
       "  </tbody>\n",
       "</table>\n",
       "</div>"
      ],
      "text/plain": [
       "                population2018  populationshare%\n",
       "state                                           \n",
       "Uttar Pradesh        228959599             17.15\n",
       "Maharashtra          120837347              9.05\n",
       "Bihar                119461013              8.95\n",
       "West Bengal           97694960              7.32\n",
       "Madhya Pradesh        82342793              6.17"
      ]
     },
     "execution_count": 9,
     "metadata": {},
     "output_type": "execute_result"
    }
   ],
   "source": [
    "getStatePopulation(folder).head()"
   ]
  },
  {
   "cell_type": "code",
   "execution_count": 10,
   "metadata": {},
   "outputs": [],
   "source": [
    "def getRuralUrbanPercentage( folder ):\n",
    "    ruralUrbanPercentage = folder + '/rural_urban_percentage.csv'\n",
    "    ruralUrbanPercentage = pd.read_csv(ruralUrbanPercentage)\n",
    "    return ruralUrbanPercentage.set_index('state')"
   ]
  },
  {
   "cell_type": "code",
   "execution_count": 11,
   "metadata": {},
   "outputs": [
    {
     "data": {
      "text/html": [
       "<div>\n",
       "<style scoped>\n",
       "    .dataframe tbody tr th:only-of-type {\n",
       "        vertical-align: middle;\n",
       "    }\n",
       "\n",
       "    .dataframe tbody tr th {\n",
       "        vertical-align: top;\n",
       "    }\n",
       "\n",
       "    .dataframe thead th {\n",
       "        text-align: right;\n",
       "    }\n",
       "</style>\n",
       "<table border=\"1\" class=\"dataframe\">\n",
       "  <thead>\n",
       "    <tr style=\"text-align: right;\">\n",
       "      <th></th>\n",
       "      <th>rural%</th>\n",
       "      <th>urban%</th>\n",
       "    </tr>\n",
       "    <tr>\n",
       "      <th>state</th>\n",
       "      <th></th>\n",
       "      <th></th>\n",
       "    </tr>\n",
       "  </thead>\n",
       "  <tbody>\n",
       "    <tr>\n",
       "      <th>Himachal Pradesh</th>\n",
       "      <td>89.97</td>\n",
       "      <td>10.03</td>\n",
       "    </tr>\n",
       "    <tr>\n",
       "      <th>Bihar</th>\n",
       "      <td>88.71</td>\n",
       "      <td>11.29</td>\n",
       "    </tr>\n",
       "    <tr>\n",
       "      <th>Assam</th>\n",
       "      <td>85.90</td>\n",
       "      <td>14.10</td>\n",
       "    </tr>\n",
       "    <tr>\n",
       "      <th>Odisha</th>\n",
       "      <td>83.31</td>\n",
       "      <td>16.69</td>\n",
       "    </tr>\n",
       "    <tr>\n",
       "      <th>Meghalaya</th>\n",
       "      <td>79.93</td>\n",
       "      <td>20.07</td>\n",
       "    </tr>\n",
       "  </tbody>\n",
       "</table>\n",
       "</div>"
      ],
      "text/plain": [
       "                  rural%  urban%\n",
       "state                           \n",
       "Himachal Pradesh   89.97   10.03\n",
       "Bihar              88.71   11.29\n",
       "Assam              85.90   14.10\n",
       "Odisha             83.31   16.69\n",
       "Meghalaya          79.93   20.07"
      ]
     },
     "execution_count": 11,
     "metadata": {},
     "output_type": "execute_result"
    }
   ],
   "source": [
    "getRuralUrbanPercentage( folder ).head()"
   ]
  },
  {
   "cell_type": "code",
   "execution_count": 12,
   "metadata": {},
   "outputs": [],
   "source": [
    "def getGDPData( folder ):\n",
    "    gdp_csv = folder + '/gdp.csv'\n",
    "    gdp_data = pd.read_csv(gdp_csv)\n",
    "    gdp_data = gdp_data[ gdp_data['Duration'] == '2014-15'] #2015-16 and 2016-17 data have many missing values. No data after that\n",
    "    gdp_data = gdp_data.set_index('Items').T\n",
    "    gdp_data = gdp_data.reset_index()\n",
    "    gdp_data.rename(columns={'index':'state'}, inplace=True);\n",
    "    gdp_data = gdp_data.set_index('state')\n",
    "    gdp_data.drop(['Duration'], axis=0, inplace=True)\n",
    "    gdp_data.rename(columns = {'GSDP - CURRENT PRICES (` in Crore)':'gsdp',\n",
    "                               '(% Growth over previous year)':'%growth'}, inplace=True)\n",
    "    gdp_data['gsdp'] = gdp_data['gsdp'].astype('float')\n",
    "    gdp_data['%growth'] = gdp_data['%growth'].astype('float')\n",
    "    return gdp_data"
   ]
  },
  {
   "cell_type": "code",
   "execution_count": 13,
   "metadata": {},
   "outputs": [
    {
     "data": {
      "text/html": [
       "<div>\n",
       "<style scoped>\n",
       "    .dataframe tbody tr th:only-of-type {\n",
       "        vertical-align: middle;\n",
       "    }\n",
       "\n",
       "    .dataframe tbody tr th {\n",
       "        vertical-align: top;\n",
       "    }\n",
       "\n",
       "    .dataframe thead th {\n",
       "        text-align: right;\n",
       "    }\n",
       "</style>\n",
       "<table border=\"1\" class=\"dataframe\">\n",
       "  <thead>\n",
       "    <tr style=\"text-align: right;\">\n",
       "      <th>Items</th>\n",
       "      <th>gsdp</th>\n",
       "      <th>%growth</th>\n",
       "    </tr>\n",
       "    <tr>\n",
       "      <th>state</th>\n",
       "      <th></th>\n",
       "      <th></th>\n",
       "    </tr>\n",
       "  </thead>\n",
       "  <tbody>\n",
       "    <tr>\n",
       "      <th>Andhra Pradesh</th>\n",
       "      <td>526468.0</td>\n",
       "      <td>13.40</td>\n",
       "    </tr>\n",
       "    <tr>\n",
       "      <th>Arunachal Pradesh</th>\n",
       "      <td>16761.0</td>\n",
       "      <td>14.79</td>\n",
       "    </tr>\n",
       "    <tr>\n",
       "      <th>Assam</th>\n",
       "      <td>198098.0</td>\n",
       "      <td>11.45</td>\n",
       "    </tr>\n",
       "    <tr>\n",
       "      <th>Bihar</th>\n",
       "      <td>373920.0</td>\n",
       "      <td>17.92</td>\n",
       "    </tr>\n",
       "    <tr>\n",
       "      <th>Chhattisgarh</th>\n",
       "      <td>234982.0</td>\n",
       "      <td>13.69</td>\n",
       "    </tr>\n",
       "  </tbody>\n",
       "</table>\n",
       "</div>"
      ],
      "text/plain": [
       "Items                  gsdp  %growth\n",
       "state                               \n",
       "Andhra Pradesh     526468.0    13.40\n",
       "Arunachal Pradesh   16761.0    14.79\n",
       "Assam              198098.0    11.45\n",
       "Bihar              373920.0    17.92\n",
       "Chhattisgarh       234982.0    13.69"
      ]
     },
     "execution_count": 13,
     "metadata": {},
     "output_type": "execute_result"
    }
   ],
   "source": [
    "getGDPData(folder).head()"
   ]
  },
  {
   "cell_type": "code",
   "execution_count": 14,
   "metadata": {},
   "outputs": [],
   "source": [
    "def getPopStats( folder ):\n",
    "    state_stats = folder + '/population.csv'\n",
    "    state_stats = pd.read_csv(state_stats)\n",
    "    state_stats = state_stats[ state_stats['Area'] == 'Total' ]\n",
    "    state_stats = state_stats[ state_stats['Survey'] == 'NFHS-4'];\n",
    "    state_stats.rename(columns = {'India/States/UTs':'state', \n",
    "                                 'Population and Household Profile - Sex ratio of the total population (females per 1000 males)':'female sex ratio',\n",
    "                                 'Population and Household Profile - Households with electricity (%)' : 'electricity %'}, inplace=True)\n",
    "    return state_stats[{'state','female sex ratio','electricity %'}].set_index('state')"
   ]
  },
  {
   "cell_type": "code",
   "execution_count": 15,
   "metadata": {},
   "outputs": [
    {
     "data": {
      "text/html": [
       "<div>\n",
       "<style scoped>\n",
       "    .dataframe tbody tr th:only-of-type {\n",
       "        vertical-align: middle;\n",
       "    }\n",
       "\n",
       "    .dataframe tbody tr th {\n",
       "        vertical-align: top;\n",
       "    }\n",
       "\n",
       "    .dataframe thead th {\n",
       "        text-align: right;\n",
       "    }\n",
       "</style>\n",
       "<table border=\"1\" class=\"dataframe\">\n",
       "  <thead>\n",
       "    <tr style=\"text-align: right;\">\n",
       "      <th></th>\n",
       "      <th>female sex ratio</th>\n",
       "      <th>electricity %</th>\n",
       "    </tr>\n",
       "    <tr>\n",
       "      <th>state</th>\n",
       "      <th></th>\n",
       "      <th></th>\n",
       "    </tr>\n",
       "  </thead>\n",
       "  <tbody>\n",
       "    <tr>\n",
       "      <th>India</th>\n",
       "      <td>991.0</td>\n",
       "      <td>88.2</td>\n",
       "    </tr>\n",
       "    <tr>\n",
       "      <th>Andhra Pradesh</th>\n",
       "      <td>1020.0</td>\n",
       "      <td>98.8</td>\n",
       "    </tr>\n",
       "    <tr>\n",
       "      <th>Assam</th>\n",
       "      <td>993.0</td>\n",
       "      <td>78.2</td>\n",
       "    </tr>\n",
       "    <tr>\n",
       "      <th>Bihar</th>\n",
       "      <td>1062.0</td>\n",
       "      <td>58.6</td>\n",
       "    </tr>\n",
       "    <tr>\n",
       "      <th>Chattisgarh</th>\n",
       "      <td>1019.0</td>\n",
       "      <td>95.6</td>\n",
       "    </tr>\n",
       "  </tbody>\n",
       "</table>\n",
       "</div>"
      ],
      "text/plain": [
       "                female sex ratio  electricity %\n",
       "state                                          \n",
       "India                      991.0           88.2\n",
       "Andhra Pradesh            1020.0           98.8\n",
       "Assam                      993.0           78.2\n",
       "Bihar                     1062.0           58.6\n",
       "Chattisgarh               1019.0           95.6"
      ]
     },
     "execution_count": 15,
     "metadata": {},
     "output_type": "execute_result"
    }
   ],
   "source": [
    "getPopStats(folder).head()"
   ]
  },
  {
   "cell_type": "code",
   "execution_count": 16,
   "metadata": {},
   "outputs": [],
   "source": [
    "sex_ratio = getPopStats(folder)\n",
    "cure_percentage = getCoronaData(folder)\n",
    "gdp_data = getGDPData(folder)\n",
    "state_pop = getStatePopulation(folder)\n",
    "rural_urban_percentage = getRuralUrbanPercentage(folder)"
   ]
  },
  {
   "cell_type": "code",
   "execution_count": 17,
   "metadata": {},
   "outputs": [
    {
     "data": {
      "text/html": [
       "<div>\n",
       "<style scoped>\n",
       "    .dataframe tbody tr th:only-of-type {\n",
       "        vertical-align: middle;\n",
       "    }\n",
       "\n",
       "    .dataframe tbody tr th {\n",
       "        vertical-align: top;\n",
       "    }\n",
       "\n",
       "    .dataframe thead th {\n",
       "        text-align: right;\n",
       "    }\n",
       "</style>\n",
       "<table border=\"1\" class=\"dataframe\">\n",
       "  <thead>\n",
       "    <tr style=\"text-align: right;\">\n",
       "      <th></th>\n",
       "      <th>female sex ratio</th>\n",
       "      <th>electricity %</th>\n",
       "      <th>death</th>\n",
       "      <th>total_cases</th>\n",
       "      <th>cured</th>\n",
       "      <th>cure %</th>\n",
       "      <th>gsdp</th>\n",
       "      <th>%growth</th>\n",
       "      <th>population2018</th>\n",
       "      <th>populationshare%</th>\n",
       "      <th>rural%</th>\n",
       "      <th>urban%</th>\n",
       "    </tr>\n",
       "    <tr>\n",
       "      <th>state</th>\n",
       "      <th></th>\n",
       "      <th></th>\n",
       "      <th></th>\n",
       "      <th></th>\n",
       "      <th></th>\n",
       "      <th></th>\n",
       "      <th></th>\n",
       "      <th></th>\n",
       "      <th></th>\n",
       "      <th></th>\n",
       "      <th></th>\n",
       "      <th></th>\n",
       "    </tr>\n",
       "  </thead>\n",
       "  <tbody>\n",
       "    <tr>\n",
       "      <th>Andhra Pradesh</th>\n",
       "      <td>1020.0</td>\n",
       "      <td>98.8</td>\n",
       "      <td>20.0</td>\n",
       "      <td>722.0</td>\n",
       "      <td>92.0</td>\n",
       "      <td>0.821429</td>\n",
       "      <td>526468.0</td>\n",
       "      <td>13.40</td>\n",
       "      <td>52883163.0</td>\n",
       "      <td>3.96</td>\n",
       "      <td>70.53</td>\n",
       "      <td>29.47</td>\n",
       "    </tr>\n",
       "    <tr>\n",
       "      <th>Assam</th>\n",
       "      <td>993.0</td>\n",
       "      <td>78.2</td>\n",
       "      <td>1.0</td>\n",
       "      <td>35.0</td>\n",
       "      <td>19.0</td>\n",
       "      <td>0.950000</td>\n",
       "      <td>198098.0</td>\n",
       "      <td>11.45</td>\n",
       "      <td>34586234.0</td>\n",
       "      <td>2.59</td>\n",
       "      <td>85.90</td>\n",
       "      <td>14.10</td>\n",
       "    </tr>\n",
       "    <tr>\n",
       "      <th>Bihar</th>\n",
       "      <td>1062.0</td>\n",
       "      <td>58.6</td>\n",
       "      <td>2.0</td>\n",
       "      <td>113.0</td>\n",
       "      <td>42.0</td>\n",
       "      <td>0.954545</td>\n",
       "      <td>373920.0</td>\n",
       "      <td>17.92</td>\n",
       "      <td>119461013.0</td>\n",
       "      <td>8.95</td>\n",
       "      <td>88.71</td>\n",
       "      <td>11.29</td>\n",
       "    </tr>\n",
       "    <tr>\n",
       "      <th>Gujarat</th>\n",
       "      <td>950.0</td>\n",
       "      <td>96.0</td>\n",
       "      <td>71.0</td>\n",
       "      <td>1939.0</td>\n",
       "      <td>131.0</td>\n",
       "      <td>0.648515</td>\n",
       "      <td>895027.0</td>\n",
       "      <td>10.82</td>\n",
       "      <td>63907200.0</td>\n",
       "      <td>4.79</td>\n",
       "      <td>57.40</td>\n",
       "      <td>42.60</td>\n",
       "    </tr>\n",
       "    <tr>\n",
       "      <th>Haryana</th>\n",
       "      <td>876.0</td>\n",
       "      <td>98.8</td>\n",
       "      <td>3.0</td>\n",
       "      <td>254.0</td>\n",
       "      <td>127.0</td>\n",
       "      <td>0.976923</td>\n",
       "      <td>437462.0</td>\n",
       "      <td>9.18</td>\n",
       "      <td>27388008.0</td>\n",
       "      <td>2.05</td>\n",
       "      <td>65.12</td>\n",
       "      <td>34.88</td>\n",
       "    </tr>\n",
       "  </tbody>\n",
       "</table>\n",
       "</div>"
      ],
      "text/plain": [
       "                female sex ratio  electricity %  death  total_cases  cured  \\\n",
       "state                                                                        \n",
       "Andhra Pradesh            1020.0           98.8   20.0        722.0   92.0   \n",
       "Assam                      993.0           78.2    1.0         35.0   19.0   \n",
       "Bihar                     1062.0           58.6    2.0        113.0   42.0   \n",
       "Gujarat                    950.0           96.0   71.0       1939.0  131.0   \n",
       "Haryana                    876.0           98.8    3.0        254.0  127.0   \n",
       "\n",
       "                  cure %      gsdp  %growth  population2018  populationshare%  \\\n",
       "state                                                                           \n",
       "Andhra Pradesh  0.821429  526468.0    13.40      52883163.0              3.96   \n",
       "Assam           0.950000  198098.0    11.45      34586234.0              2.59   \n",
       "Bihar           0.954545  373920.0    17.92     119461013.0              8.95   \n",
       "Gujarat         0.648515  895027.0    10.82      63907200.0              4.79   \n",
       "Haryana         0.976923  437462.0     9.18      27388008.0              2.05   \n",
       "\n",
       "                rural%  urban%  \n",
       "state                           \n",
       "Andhra Pradesh   70.53   29.47  \n",
       "Assam            85.90   14.10  \n",
       "Bihar            88.71   11.29  \n",
       "Gujarat          57.40   42.60  \n",
       "Haryana          65.12   34.88  "
      ]
     },
     "execution_count": 17,
     "metadata": {},
     "output_type": "execute_result"
    }
   ],
   "source": [
    "joined_1 = sex_ratio.join(cure_percentage,on='state',how='left')\n",
    "joined_2 = joined_1.join(gdp_data,on='state')\n",
    "joined_3 = joined_2.join(state_pop,on='state')\n",
    "joined_4 = joined_3.join(rural_urban_percentage,on='state')\n",
    "joined = joined_4.dropna() #drop na values\n",
    "joined.head()"
   ]
  },
  {
   "cell_type": "code",
   "execution_count": 19,
   "metadata": {},
   "outputs": [
    {
     "name": "stdout",
     "output_type": "stream",
     "text": [
      "Correlation between cured and female sex ratio is -0.24812356912663044\n",
      "Correlation between cured and electricity % is 0.21166646467589853\n",
      "Correlation between cured and gsdp is 0.7875277673342378\n",
      "Correlation between cured and %growth is -0.1204294986520063\n",
      "Correlation between cured and populationshare% is 0.3053426598696529\n",
      "Correlation between cured and rural% is -0.48038945328612687\n",
      "Correlation between cured and urban% is 0.4803894532861269\n",
      "Correlation between cure % and female sex ratio is 0.2747963086624302\n",
      "Correlation between cure % and electricity % is 0.12893519942908227\n",
      "Correlation between cure % and gsdp is -0.10678991203861349\n",
      "Correlation between cure % and %growth is -0.11309613609989917\n",
      "Correlation between cure % and populationshare% is -0.07522607669626506\n",
      "Correlation between cure % and rural% is -0.08851500831618067\n",
      "Correlation between cure % and urban% is 0.08851500831618067\n",
      "Correlation between death and female sex ratio is -0.3419139494843667\n",
      "Correlation between death and electricity % is 0.07086436700530928\n",
      "Correlation between death and gsdp is 0.6955977423946625\n",
      "Correlation between death and %growth is -0.3107776984899964\n",
      "Correlation between death and populationshare% is 0.2912329276482806\n",
      "Correlation between death and rural% is -0.20962403033156005\n",
      "Correlation between death and urban% is 0.20962403033156005\n",
      "Correlation between total_cases and female sex ratio is -0.3625030626040389\n",
      "Correlation between total_cases and electricity % is 0.06130884973884417\n",
      "Correlation between total_cases and gsdp is 0.8349820772964014\n",
      "Correlation between total_cases and %growth is -0.2708284574128755\n",
      "Correlation between total_cases and populationshare% is 0.44593390809225236\n",
      "Correlation between total_cases and rural% is -0.308856115567366\n",
      "Correlation between total_cases and urban% is 0.3088561155673661\n",
      "Correlation between total cases and cure percentage is -0.15793144309021648\n"
     ]
    }
   ],
   "source": [
    "corona_cols = ['cured', 'cure %', 'death', 'total_cases']\n",
    "other_cols  = ['female sex ratio', 'electricity %', 'gsdp', '%growth', 'populationshare%','rural%', 'urban%' ]\n",
    "for col in corona_cols:\n",
    "    for col2 in other_cols:\n",
    "        try:\n",
    "            correlation_val = joined[col].corr(joined[col2])\n",
    "            print('Correlation between %s and %s is %s' % (col, col2, correlation_val))\n",
    "        except:\n",
    "            continue\n",
    "\n",
    "correlation_val = joined['total_cases'].corr(joined['cure %'])\n",
    "print('Correlation between total cases and cure percentage is %s' % ( correlation_val))"
   ]
  },
  {
   "cell_type": "markdown",
   "metadata": {},
   "source": [
    "### We notice high correlation between gsdp ( gross state domestic product ) and total corona cases, total cured corona cases, but not as high between gsdp and total corona deaths. Larger gsdp states may have larger movement of people, which can explain more number of cases than states with smaller gsdp"
   ]
  },
  {
   "cell_type": "markdown",
   "metadata": {},
   "source": [
    "### We also notice negative correlation ( not as big though ) between female sex ratio ( per 1000 males ) and total corona cases, cured corona cases and total deaths due to corona, which suggests that more the males in society higher the cases. This can be explained assuming that males are supposedly more out at places where the transmission of the virus is high, or in general males are supposedly more out of their homes."
   ]
  },
  {
   "cell_type": "markdown",
   "metadata": {},
   "source": [
    "### We also see negative correlation between total corona deaths and growth % of the state, which is interesting!"
   ]
  },
  {
   "cell_type": "markdown",
   "metadata": {},
   "source": [
    "### Other than that we notice some ( not significant enough ) correlation between cured corona virus cases and % of state that is urban. And as one would expect, there is some correlation between population of the state and total corona virus cases."
   ]
  },
  {
   "cell_type": "code",
   "execution_count": 20,
   "metadata": {},
   "outputs": [
    {
     "data": {
      "image/png": "[encoded data removed]",
      "text/plain": [
       "<Figure size 432x288 with 1 Axes>"
      ]
     },
     "metadata": {
      "needs_background": "light"
     },
     "output_type": "display_data"
    }
   ],
   "source": [
    "joined.sort_values(by=['gsdp']).plot(kind='bar',x='gsdp',y=['cured','total_cases'],color=['green','red'])\n",
    "plt.show()"
   ]
  },
  {
   "cell_type": "code",
   "execution_count": 21,
   "metadata": {},
   "outputs": [
    {
     "data": {
      "image/png": "[encoded data removed]",
      "text/plain": [
       "<Figure size 432x288 with 1 Axes>"
      ]
     },
     "metadata": {
      "needs_background": "light"
     },
     "output_type": "display_data"
    }
   ],
   "source": [
    "joined.sort_values(by=['%growth']).plot(kind='bar',x='%growth',y=['death'],color=['green','red'])\n",
    "plt.show()"
   ]
  },
  {
   "cell_type": "markdown",
   "metadata": {},
   "source": [
    "#### Looking at the above graph, the correlation value seems highly affected by one large number in the data, i.e. number of deaths in maharashtra"
   ]
  },
  {
   "cell_type": "code",
   "execution_count": null,
   "metadata": {},
   "outputs": [],
   "source": []
  },
  {
   "cell_type": "markdown",
   "metadata": {},
   "source": [
    "### Now let's try building a linear regression model to try to see if relationship between corona cases and other state parameters exist!"
   ]
  },
  {
   "cell_type": "code",
   "execution_count": 41,
   "metadata": {},
   "outputs": [],
   "source": [
    "from sklearn.utils import shuffle\n",
    "\n",
    "joined = shuffle(joined)"
   ]
  },
  {
   "cell_type": "code",
   "execution_count": 44,
   "metadata": {},
   "outputs": [],
   "source": [
    "from sklearn import linear_model\n",
    "\n",
    "def linear_regression( var, columns ):\n",
    "    train = joined.iloc[:20, :]\n",
    "    test = joined.iloc[20:, :]\n",
    "    \n",
    "    train_X = train[ columns ]\n",
    "    test_X = test[ columns ]\n",
    "    \n",
    "    train_y = train[var]\n",
    "    test_y = test[var]\n",
    "    \n",
    "    lm = linear_model.LinearRegression()\n",
    "    model = lm.fit(train_X,train_y)\n",
    "    print('Linear regression with output as %s : Training accuracy : %3.3f Testing accuracy : %3.3f' % \n",
    "          (var,lm.score(train_X,train_y),lm.score(test_X,test_y)) )"
   ]
  },
  {
   "cell_type": "code",
   "execution_count": 45,
   "metadata": {},
   "outputs": [
    {
     "name": "stdout",
     "output_type": "stream",
     "text": [
      "Linear regression with output as total_cases : Training accuracy : 0.798 Testing accuracy : 0.630\n",
      "Linear regression with output as cured : Training accuracy : 0.838 Testing accuracy : 0.444\n",
      "Linear regression with output as cure % : Training accuracy : 0.242 Testing accuracy : -18.324\n",
      "Linear regression with output as death : Training accuracy : 0.687 Testing accuracy : -2.646\n"
     ]
    }
   ],
   "source": [
    "columns = ['female sex ratio', 'electricity %', 'gsdp', '%growth', 'populationshare%','rural%', 'urban%']\n",
    "linear_regression('total_cases', columns)\n",
    "linear_regression('cured', columns)\n",
    "linear_regression('cure %', columns)\n",
    "linear_regression('death', columns)"
   ]
  },
  {
   "cell_type": "markdown",
   "metadata": {},
   "source": [
    "#### One model to look at is the total cured cases - with high training accuracy but low testing accuracy! \n",
    "#### Another one to look at is total corona virus cases - we have decent training accuracy and close enough testing accuracy."
   ]
  },
  {
   "cell_type": "code",
   "execution_count": 46,
   "metadata": {},
   "outputs": [
    {
     "name": "stdout",
     "output_type": "stream",
     "text": [
      "Linear regression with output as total_cases : Training accuracy : 0.782 Testing accuracy : 0.343\n",
      "Linear regression with output as cured : Training accuracy : 0.838 Testing accuracy : 0.474\n",
      "Linear regression with output as cure % : Training accuracy : 0.108 Testing accuracy : -3.673\n",
      "Linear regression with output as death : Training accuracy : 0.605 Testing accuracy : -1.984\n"
     ]
    }
   ],
   "source": [
    "columns = ['female sex ratio', 'gsdp', 'populationshare%','rural%']\n",
    "linear_regression('total_cases', columns)\n",
    "linear_regression('cured', columns)\n",
    "linear_regression('cure %', columns)\n",
    "linear_regression('death', columns)"
   ]
  },
  {
   "cell_type": "markdown",
   "metadata": {},
   "source": [
    "#### nope..no good...one thing we can do here is to cry about it! But now is not the time to cry, now is time to accept it!"
   ]
  },
  {
   "cell_type": "code",
   "execution_count": null,
   "metadata": {},
   "outputs": [],
   "source": []
  }
 ],
 "metadata": {
  "kernelspec": {
   "display_name": "Python 3",
   "language": "python",
   "name": "python3"
  },
  "language_info": {
   "codemirror_mode": {
    "name": "ipython",
    "version": 3
   },
   "file_extension": ".py",
   "mimetype": "text/x-python",
   "name": "python",
   "nbconvert_exporter": "python",
   "pygments_lexer": "ipython3",
   "version": "3.7.3"
  }
 },
 "nbformat": 4,
 "nbformat_minor": 2
}
